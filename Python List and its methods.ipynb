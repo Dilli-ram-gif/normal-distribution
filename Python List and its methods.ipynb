{
 "cells": [
  {
   "cell_type": "markdown",
   "id": "3e3043a3",
   "metadata": {},
   "source": [
    "list1 = [\"apple\", \"banana\",\"pineapple\",\"pear\"]\n",
    "list2 = [\"mango\",\"grapes\"]\n",
    "\n",
    "list1.remove(\"apple\")"
   ]
  },
  {
   "cell_type": "code",
   "execution_count": 3,
   "id": "c3826167",
   "metadata": {},
   "outputs": [
    {
     "data": {
      "text/plain": [
       "['banana', 'pineapple', 'pear']"
      ]
     },
     "execution_count": 3,
     "metadata": {},
     "output_type": "execute_result"
    }
   ],
   "source": [
    "list1"
   ]
  },
  {
   "cell_type": "code",
   "execution_count": null,
   "id": "98706d19",
   "metadata": {},
   "outputs": [],
   "source": [
    "## Python pop method"
   ]
  },
  {
   "cell_type": "code",
   "execution_count": null,
   "id": "1477b631",
   "metadata": {},
   "outputs": [],
   "source": [
    "list2 = list((1,34,56))"
   ]
  },
  {
   "cell_type": "code",
   "execution_count": null,
   "id": "5dfe9490",
   "metadata": {},
   "outputs": [],
   "source": [
    "list2"
   ]
  },
  {
   "cell_type": "code",
   "execution_count": null,
   "id": "1c1be9cd",
   "metadata": {},
   "outputs": [],
   "source": []
  }
 ],
 "metadata": {
  "kernelspec": {
   "display_name": "Python 3",
   "language": "python",
   "name": "python3"
  },
  "language_info": {
   "codemirror_mode": {
    "name": "ipython",
    "version": 3
   },
   "file_extension": ".py",
   "mimetype": "text/x-python",
   "name": "python",
   "nbconvert_exporter": "python",
   "pygments_lexer": "ipython3",
   "version": "3.10.0 (tags/v3.10.0:b494f59, Oct  4 2021, 19:00:18) [MSC v.1929 64 bit (AMD64)]"
  },
  "vscode": {
   "interpreter": {
    "hash": "76d7c06053c3456e5600312cec90888656fc0ed30c03d8425b9dac6e4fc8e014"
   }
  }
 },
 "nbformat": 4,
 "nbformat_minor": 5
}
