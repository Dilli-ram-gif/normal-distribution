{
 "cells": [
  {
   "cell_type": "code",
   "execution_count": 2,
   "id": "ef0118ac",
   "metadata": {},
   "outputs": [
    {
     "name": "stdout",
     "output_type": "stream",
     "text": [
      "<class '__main__.Person'>\n"
     ]
    }
   ],
   "source": [
    "class Person:\n",
    "    def __init__(self):\n",
    "        print(type(self))\n",
    "p1 = Person()\n"
   ]
  },
  {
   "cell_type": "markdown",
   "id": "47ec2060",
   "metadata": {},
   "source": [
    "### Object methods in class"
   ]
  },
  {
   "cell_type": "code",
   "execution_count": 5,
   "id": "afb87c4f",
   "metadata": {},
   "outputs": [],
   "source": [
    "class Person:\n",
    "    def __init__(self, age):\n",
    "        self.age = age\n",
    "        \n",
    "    def display_age(self):\n",
    "        print(f\"The  object age is {self.age}\")"
   ]
  },
  {
   "cell_type": "code",
   "execution_count": 6,
   "id": "ecc81345",
   "metadata": {},
   "outputs": [],
   "source": [
    "p = Person(24)"
   ]
  },
  {
   "cell_type": "code",
   "execution_count": 7,
   "id": "29baa3d5",
   "metadata": {},
   "outputs": [
    {
     "name": "stdout",
     "output_type": "stream",
     "text": [
      "The  object age is 24\n"
     ]
    }
   ],
   "source": [
    "p.display_age()"
   ]
  },
  {
   "cell_type": "code",
   "execution_count": null,
   "id": "a40c6559",
   "metadata": {},
   "outputs": [],
   "source": []
  }
 ],
 "metadata": {
  "kernelspec": {
   "display_name": "Python 3 (ipykernel)",
   "language": "python",
   "name": "python3"
  },
  "language_info": {
   "codemirror_mode": {
    "name": "ipython",
    "version": 3
   },
   "file_extension": ".py",
   "mimetype": "text/x-python",
   "name": "python",
   "nbconvert_exporter": "python",
   "pygments_lexer": "ipython3",
   "version": "3.11.0"
  }
 },
 "nbformat": 4,
 "nbformat_minor": 5
}
