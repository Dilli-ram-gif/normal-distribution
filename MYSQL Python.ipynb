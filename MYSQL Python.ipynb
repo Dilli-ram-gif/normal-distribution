{
 "cells": [
  {
   "cell_type": "markdown",
   "id": "ee5c8800",
   "metadata": {},
   "source": [
    "### Connecting and Creating database"
   ]
  },
  {
   "cell_type": "code",
   "execution_count": 1,
   "id": "e33f36b0",
   "metadata": {},
   "outputs": [],
   "source": [
    "import sqlite3"
   ]
  },
  {
   "cell_type": "code",
   "execution_count": 2,
   "id": "3d9fdd5f",
   "metadata": {},
   "outputs": [],
   "source": [
    "con = sqlite3.connect('student.db') #create and connect database"
   ]
  },
  {
   "cell_type": "code",
   "execution_count": 3,
   "id": "2b7a5a69",
   "metadata": {},
   "outputs": [
    {
     "data": {
      "text/plain": [
       "<sqlite3.Connection at 0x2421fcc9a80>"
      ]
     },
     "execution_count": 3,
     "metadata": {},
     "output_type": "execute_result"
    }
   ],
   "source": [
    "con"
   ]
  },
  {
   "cell_type": "code",
   "execution_count": 4,
   "id": "cb108c66",
   "metadata": {},
   "outputs": [
    {
     "data": {
      "text/plain": [
       "sqlite3.Connection"
      ]
     },
     "execution_count": 4,
     "metadata": {},
     "output_type": "execute_result"
    }
   ],
   "source": [
    "type(con)"
   ]
  },
  {
   "cell_type": "code",
   "execution_count": null,
   "id": "ee0cbe67",
   "metadata": {},
   "outputs": [],
   "source": []
  },
  {
   "cell_type": "markdown",
   "id": "21040d40",
   "metadata": {},
   "source": [
    "### After connection we need to execute sql query to read, write on data base table. Therefore, we need cursor to do so. Cursor executes sql query"
   ]
  },
  {
   "cell_type": "code",
   "execution_count": 5,
   "id": "2434bb04",
   "metadata": {},
   "outputs": [],
   "source": [
    "cur = con.cursor() #cursor executes SQL query"
   ]
  },
  {
   "cell_type": "markdown",
   "id": "1dbf8cf4",
   "metadata": {},
   "source": [
    "### Create table on database"
   ]
  },
  {
   "cell_type": "markdown",
   "id": "61f421bc",
   "metadata": {},
   "source": [
    "# Create table on database\n",
    "````\n",
    "create table table_name (\n",
    "roll_no int,\n",
    "name varchar(20),\n",
    "````"
   ]
  },
  {
   "cell_type": "code",
   "execution_count": 7,
   "id": "2766f926",
   "metadata": {},
   "outputs": [],
   "source": [
    "create_table_query = \"\"\"\n",
    "create table student(roll_no int, name varchar (40))\n",
    "\"\"\""
   ]
  },
  {
   "cell_type": "code",
   "execution_count": 8,
   "id": "f298d412",
   "metadata": {},
   "outputs": [
    {
     "data": {
      "text/plain": [
       "<sqlite3.Cursor at 0x2421fc5bf40>"
      ]
     },
     "execution_count": 8,
     "metadata": {},
     "output_type": "execute_result"
    }
   ],
   "source": [
    "cur.execute(create_table_query)"
   ]
  },
  {
   "cell_type": "markdown",
   "id": "7895460d",
   "metadata": {},
   "source": [
    "# Insert operation on SQL\n",
    "INSERT INTO table_name (column1, column2, column3,....)\n",
    "VALUES(value1, value2, value3,......),\n",
    "(value1, value2, value3,......);"
   ]
  },
  {
   "cell_type": "code",
   "execution_count": 9,
   "id": "d0362637",
   "metadata": {},
   "outputs": [],
   "source": [
    "insert_data_query = \"\"\"\n",
    "Insert into student (roll_no, name)\n",
    "values\n",
    "(1, \"Sandeep\"),\n",
    "(2, \"Shaurya\"),\n",
    "(3, \"Kshitiz\")\n",
    "\"\"\""
   ]
  },
  {
   "cell_type": "code",
   "execution_count": 10,
   "id": "8366e360",
   "metadata": {},
   "outputs": [
    {
     "data": {
      "text/plain": [
       "<sqlite3.Cursor at 0x2421fc5bf40>"
      ]
     },
     "execution_count": 10,
     "metadata": {},
     "output_type": "execute_result"
    }
   ],
   "source": [
    "cur.execute(insert_data_query)"
   ]
  },
  {
   "cell_type": "markdown",
   "id": "a46acca8",
   "metadata": {},
   "source": [
    "### Read data from a table\n",
    "```sql\n",
    "select * from table_name\n",
    "```"
   ]
  },
  {
   "cell_type": "code",
   "execution_count": 11,
   "id": "a82f0bdc",
   "metadata": {},
   "outputs": [],
   "source": [
    "read_query = \"\"\"\n",
    "select * from student\n",
    "\"\"\""
   ]
  },
  {
   "cell_type": "code",
   "execution_count": 12,
   "id": "86081e5c",
   "metadata": {},
   "outputs": [
    {
     "data": {
      "text/plain": [
       "<sqlite3.Cursor at 0x2421fc5bf40>"
      ]
     },
     "execution_count": 12,
     "metadata": {},
     "output_type": "execute_result"
    }
   ],
   "source": [
    "cur.execute(read_query)"
   ]
  },
  {
   "cell_type": "code",
   "execution_count": 13,
   "id": "7d4cbc6c",
   "metadata": {},
   "outputs": [
    {
     "data": {
      "text/plain": [
       "[(1, 'Sandeep'), (2, 'Shaurya'), (3, 'Kshitiz')]"
      ]
     },
     "execution_count": 13,
     "metadata": {},
     "output_type": "execute_result"
    }
   ],
   "source": [
    "cur.execute(read_query).fetchall()"
   ]
  },
  {
   "cell_type": "code",
   "execution_count": 15,
   "id": "101c080b",
   "metadata": {},
   "outputs": [
    {
     "data": {
      "text/plain": [
       "[('Sandeep',), ('Shaurya',), ('Kshitiz',)]"
      ]
     },
     "execution_count": 15,
     "metadata": {},
     "output_type": "execute_result"
    }
   ],
   "source": [
    "cur.execute(\"select name from student\").fetchall() # read name column"
   ]
  },
  {
   "cell_type": "markdown",
   "id": "5826e497",
   "metadata": {},
   "source": [
    "### find the roll no of student named Kshitiz"
   ]
  },
  {
   "cell_type": "code",
   "execution_count": 17,
   "id": "80ae7083",
   "metadata": {},
   "outputs": [
    {
     "data": {
      "text/plain": [
       "[(3,)]"
      ]
     },
     "execution_count": 17,
     "metadata": {},
     "output_type": "execute_result"
    }
   ],
   "source": [
    "cur.execute(\"select roll_no from student where name = 'Kshitiz'\").fetchall()"
   ]
  },
  {
   "cell_type": "markdown",
   "id": "9af63a9a",
   "metadata": {},
   "source": [
    "### Update in SQL\n",
    "```\n",
    "update table_name\n",
    "set column1 = value1\n",
    "WHERE condition;\n",
    "```"
   ]
  },
  {
   "cell_type": "code",
   "execution_count": 18,
   "id": "ac7e6272",
   "metadata": {},
   "outputs": [],
   "source": [
    "# I want to update roll_no 3 to Kshitiz Regmi"
   ]
  },
  {
   "cell_type": "code",
   "execution_count": 19,
   "id": "7cf1853a",
   "metadata": {},
   "outputs": [],
   "source": [
    "updatename = \"\"\"\n",
    "update student\n",
    "set name = \"Kshitiz Regmi\"\n",
    "where\n",
    "roll_no = 3\n",
    "\"\"\""
   ]
  },
  {
   "cell_type": "code",
   "execution_count": 20,
   "id": "e3b2594b",
   "metadata": {},
   "outputs": [
    {
     "data": {
      "text/plain": [
       "<sqlite3.Cursor at 0x2421fc5bf40>"
      ]
     },
     "execution_count": 20,
     "metadata": {},
     "output_type": "execute_result"
    }
   ],
   "source": [
    "cur.execute(updatename)"
   ]
  },
  {
   "cell_type": "code",
   "execution_count": 21,
   "id": "8cc271d7",
   "metadata": {},
   "outputs": [
    {
     "data": {
      "text/plain": [
       "[(1, 'Sandeep'), (2, 'Shaurya'), (3, 'Kshitiz Regmi')]"
      ]
     },
     "execution_count": 21,
     "metadata": {},
     "output_type": "execute_result"
    }
   ],
   "source": [
    "cur.execute('Select * from student').fetchall()"
   ]
  },
  {
   "cell_type": "markdown",
   "id": "742fc493",
   "metadata": {},
   "source": [
    "### Delete operation in SQL\n",
    "```\n",
    "delete from table\n",
    "where condition;\n",
    "```"
   ]
  },
  {
   "cell_type": "code",
   "execution_count": 22,
   "id": "cb071a46",
   "metadata": {},
   "outputs": [
    {
     "data": {
      "text/plain": [
       "<sqlite3.Cursor at 0x2421fc5bf40>"
      ]
     },
     "execution_count": 22,
     "metadata": {},
     "output_type": "execute_result"
    }
   ],
   "source": [
    "cur.execute(\"delete from student where roll_no = 3\")"
   ]
  },
  {
   "cell_type": "code",
   "execution_count": 23,
   "id": "765e0115",
   "metadata": {},
   "outputs": [
    {
     "data": {
      "text/plain": [
       "[(1, 'Sandeep'), (2, 'Shaurya')]"
      ]
     },
     "execution_count": 23,
     "metadata": {},
     "output_type": "execute_result"
    }
   ],
   "source": [
    "cur.execute(\"select * from student\").fetchall()"
   ]
  },
  {
   "cell_type": "code",
   "execution_count": null,
   "id": "ddb701cb",
   "metadata": {},
   "outputs": [],
   "source": []
  }
 ],
 "metadata": {
  "kernelspec": {
   "display_name": "Python 3 (ipykernel)",
   "language": "python",
   "name": "python3"
  },
  "language_info": {
   "codemirror_mode": {
    "name": "ipython",
    "version": 3
   },
   "file_extension": ".py",
   "mimetype": "text/x-python",
   "name": "python",
   "nbconvert_exporter": "python",
   "pygments_lexer": "ipython3",
   "version": "3.11.0"
  }
 },
 "nbformat": 4,
 "nbformat_minor": 5
}
