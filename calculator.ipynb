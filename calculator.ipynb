{
 "cells": [
  {
   "cell_type": "code",
   "execution_count": 19,
   "id": "3b6396ba",
   "metadata": {},
   "outputs": [],
   "source": [
    "import math"
   ]
  },
  {
   "cell_type": "code",
   "execution_count": 20,
   "id": "0c11160f",
   "metadata": {},
   "outputs": [
    {
     "name": "stdout",
     "output_type": "stream",
     "text": [
      "Enter the first number: 20\n"
     ]
    }
   ],
   "source": [
    "first_number = int(input(\"Enter the first number: \"))"
   ]
  },
  {
   "cell_type": "code",
   "execution_count": 21,
   "id": "ed0c0211",
   "metadata": {},
   "outputs": [
    {
     "name": "stdout",
     "output_type": "stream",
     "text": [
      "Enter the second number: 20\n"
     ]
    }
   ],
   "source": [
    "second_number = int(input(\"Enter the second number: \"))"
   ]
  },
  {
   "cell_type": "code",
   "execution_count": 22,
   "id": "e4134d4d",
   "metadata": {},
   "outputs": [],
   "source": [
    "def adddition(first_number, second_number):\n",
    "    return first_number + second_number\n"
   ]
  },
  {
   "cell_type": "code",
   "execution_count": 23,
   "id": "a89c3508",
   "metadata": {},
   "outputs": [],
   "source": [
    "def subtraction(first_number, second_number):\n",
    "    if first_number > second_number:\n",
    "        return first_number - second_number\n",
    "    else:\n",
    "        return second_number - first_number\n",
    "        "
   ]
  },
  {
   "cell_type": "code",
   "execution_count": 24,
   "id": "aced4cea",
   "metadata": {},
   "outputs": [],
   "source": [
    "def multiply(first_number, second_number):\n",
    "    return first_number * second_number"
   ]
  },
  {
   "cell_type": "code",
   "execution_count": 29,
   "id": "683dd6d5",
   "metadata": {},
   "outputs": [],
   "source": [
    "def division(first_number, second_number):\n",
    "    if first_number>second_number:\n",
    "        return math.floor(first_number/second_number)\n",
    "    else: \n",
    "        return math.floor(second_number/first_number)"
   ]
  },
  {
   "cell_type": "code",
   "execution_count": 30,
   "id": "aea26204",
   "metadata": {},
   "outputs": [
    {
     "data": {
      "text/plain": [
       "1"
      ]
     },
     "execution_count": 30,
     "metadata": {},
     "output_type": "execute_result"
    }
   ],
   "source": [
    "division(4,5)"
   ]
  },
  {
   "cell_type": "code",
   "execution_count": null,
   "id": "5ddde4e9",
   "metadata": {},
   "outputs": [],
   "source": []
  }
 ],
 "metadata": {
  "kernelspec": {
   "display_name": "Python 3 (ipykernel)",
   "language": "python",
   "name": "python3"
  },
  "language_info": {
   "codemirror_mode": {
    "name": "ipython",
    "version": 3
   },
   "file_extension": ".py",
   "mimetype": "text/x-python",
   "name": "python",
   "nbconvert_exporter": "python",
   "pygments_lexer": "ipython3",
   "version": "3.10.0"
  }
 },
 "nbformat": 4,
 "nbformat_minor": 5
}
