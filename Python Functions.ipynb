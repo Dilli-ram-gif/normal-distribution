{
 "cells": [
  {
   "cell_type": "code",
   "execution_count": 3,
   "id": "43c807d3",
   "metadata": {},
   "outputs": [],
   "source": [
    "def greet(message): #message is a parameter or argument passed by the user\n",
    "    print(\"Inside function\")\n",
    "    print(message)"
   ]
  },
  {
   "cell_type": "code",
   "execution_count": 2,
   "id": "04ab626c",
   "metadata": {},
   "outputs": [
    {
     "name": "stdout",
     "output_type": "stream",
     "text": [
      "Enter something: Hi\n",
      "Inside function\n",
      "Hi\n"
     ]
    }
   ],
   "source": [
    "message = input(\"Enter something: \")\n",
    "greet(message)"
   ]
  },
  {
   "cell_type": "markdown",
   "id": "c4850da7",
   "metadata": {},
   "source": [
    "### Returning multiple values in a function"
   ]
  },
  {
   "cell_type": "code",
   "execution_count": 14,
   "id": "d8e273c1",
   "metadata": {},
   "outputs": [],
   "source": [
    "def addition(num1, num2):\n",
    "    c = num1 + num2\n",
    "    return num1, num2, c\n",
    "first_num, second_num, third_num = addition(2,3)"
   ]
  },
  {
   "cell_type": "code",
   "execution_count": 17,
   "id": "27a4ab2f",
   "metadata": {},
   "outputs": [
    {
     "data": {
      "text/plain": [
       "2"
      ]
     },
     "execution_count": 17,
     "metadata": {},
     "output_type": "execute_result"
    }
   ],
   "source": [
    "first_num"
   ]
  },
  {
   "cell_type": "code",
   "execution_count": 19,
   "id": "91906d6b",
   "metadata": {},
   "outputs": [
    {
     "data": {
      "text/plain": [
       "3"
      ]
     },
     "execution_count": 19,
     "metadata": {},
     "output_type": "execute_result"
    }
   ],
   "source": [
    "second_num"
   ]
  },
  {
   "cell_type": "code",
   "execution_count": 20,
   "id": "f3b2e7bd",
   "metadata": {},
   "outputs": [
    {
     "data": {
      "text/plain": [
       "5"
      ]
     },
     "execution_count": 20,
     "metadata": {},
     "output_type": "execute_result"
    }
   ],
   "source": [
    "third_num"
   ]
  },
  {
   "cell_type": "code",
   "execution_count": 16,
   "id": "67b77a59",
   "metadata": {},
   "outputs": [],
   "source": [
    "def arithmetic_operation(num1, num2):\n",
    "    grand = num1 + num2\n",
    "    diff = num1 + num2\n",
    "    return grand, diff\n",
    "grand, diff = arithmetic_operation (2,3)\n"
   ]
  },
  {
   "cell_type": "code",
   "execution_count": 9,
   "id": "5d036b37",
   "metadata": {},
   "outputs": [
    {
     "data": {
      "text/plain": [
       "5"
      ]
     },
     "execution_count": 9,
     "metadata": {},
     "output_type": "execute_result"
    }
   ],
   "source": [
    "grand"
   ]
  },
  {
   "cell_type": "code",
   "execution_count": 10,
   "id": "8d1da550",
   "metadata": {},
   "outputs": [
    {
     "data": {
      "text/plain": [
       "5"
      ]
     },
     "execution_count": 10,
     "metadata": {},
     "output_type": "execute_result"
    }
   ],
   "source": [
    "diff"
   ]
  },
  {
   "cell_type": "code",
   "execution_count": null,
   "id": "23fb43e6",
   "metadata": {},
   "outputs": [],
   "source": []
  }
 ],
 "metadata": {
  "kernelspec": {
   "display_name": "Python 3 (ipykernel)",
   "language": "python",
   "name": "python3"
  },
  "language_info": {
   "codemirror_mode": {
    "name": "ipython",
    "version": 3
   },
   "file_extension": ".py",
   "mimetype": "text/x-python",
   "name": "python",
   "nbconvert_exporter": "python",
   "pygments_lexer": "ipython3",
   "version": "3.11.0"
  }
 },
 "nbformat": 4,
 "nbformat_minor": 5
}
