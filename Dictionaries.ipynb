{
 "cells": [
  {
   "cell_type": "code",
   "execution_count": 2,
   "id": "de30d674",
   "metadata": {},
   "outputs": [],
   "source": [
    "my_info = {\"name\": \"Dilli\",\n",
    "           \"class_number\": 8,\n",
    "           \"section\": \"A\"}\n"
   ]
  },
  {
   "cell_type": "code",
   "execution_count": 3,
   "id": "310a5eca",
   "metadata": {},
   "outputs": [
    {
     "data": {
      "text/plain": [
       "dict_keys(['name', 'class_number', 'section'])"
      ]
     },
     "execution_count": 3,
     "metadata": {},
     "output_type": "execute_result"
    }
   ],
   "source": [
    "my_info.keys()"
   ]
  },
  {
   "cell_type": "markdown",
   "id": "1b8106e2",
   "metadata": {},
   "source": [
    "### Accessing values of dictionary"
   ]
  },
  {
   "cell_type": "code",
   "execution_count": 5,
   "id": "27e6e2f1",
   "metadata": {},
   "outputs": [],
   "source": [
    "employee = {\n",
    "    \"Name\":\"Ram Singh\",\n",
    "    \"Address\":\"Kathmandu\", \n",
    "    \"Municipality\": \"Tokha\",\n",
    "    \"Position\": \"Manager\"\n",
    "}"
   ]
  },
  {
   "cell_type": "code",
   "execution_count": 8,
   "id": "a2ae71ba",
   "metadata": {},
   "outputs": [
    {
     "data": {
      "text/plain": [
       "'Ram Singh'"
      ]
     },
     "execution_count": 8,
     "metadata": {},
     "output_type": "execute_result"
    }
   ],
   "source": [
    "employee[\"Name\"]"
   ]
  },
  {
   "cell_type": "code",
   "execution_count": 9,
   "id": "27f46892",
   "metadata": {},
   "outputs": [
    {
     "data": {
      "text/plain": [
       "'Ram Singh'"
      ]
     },
     "execution_count": 9,
     "metadata": {},
     "output_type": "execute_result"
    }
   ],
   "source": [
    "employee.get(\"Name\")"
   ]
  },
  {
   "cell_type": "markdown",
   "id": "c22ecd5f",
   "metadata": {},
   "source": [
    "### Add Key value pair on dictionary(Update)"
   ]
  },
  {
   "cell_type": "code",
   "execution_count": 10,
   "id": "b3a45a3a",
   "metadata": {},
   "outputs": [],
   "source": [
    "scores = {\n",
    "    \"Nepali\": 80,\n",
    "    \"Maths\": 95,\n",
    "    \"Social\": 79,\n",
    "    \"English\": 90,\n",
    "    \"History\": 80,\n",
    "}"
   ]
  },
  {
   "cell_type": "code",
   "execution_count": 11,
   "id": "9ac89c40",
   "metadata": {},
   "outputs": [],
   "source": [
    "scores[\"Science\"] = 98"
   ]
  },
  {
   "cell_type": "code",
   "execution_count": 12,
   "id": "c0b3a0bd",
   "metadata": {},
   "outputs": [
    {
     "data": {
      "text/plain": [
       "{'Nepali': 80,\n",
       " 'Maths': 95,\n",
       " 'Social': 79,\n",
       " 'English': 90,\n",
       " 'History': 80,\n",
       " 'Science': 98}"
      ]
     },
     "execution_count": 12,
     "metadata": {},
     "output_type": "execute_result"
    }
   ],
   "source": [
    "scores"
   ]
  },
  {
   "cell_type": "code",
   "execution_count": 13,
   "id": "fe3708dc",
   "metadata": {},
   "outputs": [],
   "source": [
    "scores.update({'History': 85})"
   ]
  },
  {
   "cell_type": "code",
   "execution_count": 14,
   "id": "a777c005",
   "metadata": {},
   "outputs": [
    {
     "data": {
      "text/plain": [
       "{'Nepali': 80,\n",
       " 'Maths': 95,\n",
       " 'Social': 79,\n",
       " 'English': 90,\n",
       " 'History': 85,\n",
       " 'Science': 98}"
      ]
     },
     "execution_count": 14,
     "metadata": {},
     "output_type": "execute_result"
    }
   ],
   "source": [
    "scores"
   ]
  },
  {
   "cell_type": "markdown",
   "id": "a976c3d9",
   "metadata": {},
   "source": [
    "Updates inserts key: value pair in dict if the key doesn't exit\n",
    "    if key exist it updates value of a key."
   ]
  },
  {
   "cell_type": "code",
   "execution_count": 1,
   "id": "d4ff18fc",
   "metadata": {},
   "outputs": [],
   "source": [
    "mydict = {\"name\": \"DilliRam\",\n",
    "         \"class\": 9,\n",
    "         \"Roll No.\": 1,\n",
    "         \"Address\": \"Talakhu\",\n",
    "         \"Gender\": \"Male\"}"
   ]
  },
  {
   "cell_type": "code",
   "execution_count": 2,
   "id": "9a9574dd",
   "metadata": {},
   "outputs": [
    {
     "name": "stdout",
     "output_type": "stream",
     "text": [
      "{'name': 'DilliRam', 'class': 9, 'Roll No.': 1, 'Address': 'Talakhu', 'Gender': 'Male'}\n"
     ]
    }
   ],
   "source": [
    "print(mydict)"
   ]
  },
  {
   "cell_type": "code",
   "execution_count": 3,
   "id": "cf6397bb",
   "metadata": {},
   "outputs": [
    {
     "ename": "SyntaxError",
     "evalue": "invalid syntax (3492074457.py, line 1)",
     "output_type": "error",
     "traceback": [
      "\u001b[1;36m  Cell \u001b[1;32mIn [3], line 1\u001b[1;36m\u001b[0m\n\u001b[1;33m    mydict2 = dict(name: \"Dilli Ram\",\u001b[0m\n\u001b[1;37m                       ^\u001b[0m\n\u001b[1;31mSyntaxError\u001b[0m\u001b[1;31m:\u001b[0m invalid syntax\n"
     ]
    }
   ],
   "source": [
    "mydict2 = dict(name: \"Dilli Ram\",\n",
    "              grade: 9,\n",
    "              roll NO: 7)"
   ]
  },
  {
   "cell_type": "code",
   "execution_count": null,
   "id": "be8827bb",
   "metadata": {},
   "outputs": [],
   "source": []
  }
 ],
 "metadata": {
  "kernelspec": {
   "display_name": "Python 3 (ipykernel)",
   "language": "python",
   "name": "python3"
  },
  "language_info": {
   "codemirror_mode": {
    "name": "ipython",
    "version": 3
   },
   "file_extension": ".py",
   "mimetype": "text/x-python",
   "name": "python",
   "nbconvert_exporter": "python",
   "pygments_lexer": "ipython3",
   "version": "3.11.0"
  }
 },
 "nbformat": 4,
 "nbformat_minor": 5
}
