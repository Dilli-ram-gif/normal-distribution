{
 "cells": [
  {
   "cell_type": "code",
   "execution_count": 2,
   "id": "3a51ffdc",
   "metadata": {},
   "outputs": [
    {
     "name": "stdout",
     "output_type": "stream",
     "text": [
      "<class '__main__.Person'>\n"
     ]
    }
   ],
   "source": [
    "class Person:\n",
    "    def __init__(self):\n",
    "        print(type(self))\n",
    "p1 = Person()\n"
   ]
  },
  {
   "cell_type": "markdown",
   "id": "38aee86a",
   "metadata": {},
   "source": [
    "### Object methods in class"
   ]
  },
  {
   "cell_type": "code",
   "execution_count": 3,
   "id": "608ec021",
   "metadata": {},
   "outputs": [],
   "source": [
    "class Person:\n",
    "    def __init__(self, age):\n",
    "        self.age = age\n",
    "        \n",
    "    def display_age(self):\n",
    "        print(f\"The  object age is {self.age}\")"
   ]
  },
  {
   "cell_type": "code",
   "execution_count": 4,
   "id": "b2a0a039",
   "metadata": {},
   "outputs": [],
   "source": [
    "p = Person(24)"
   ]
  },
  {
   "cell_type": "code",
   "execution_count": null,
   "id": "b9649024",
   "metadata": {},
   "outputs": [],
   "source": []
  }
 ],
 "metadata": {
  "kernelspec": {
   "display_name": "Python 3 (ipykernel)",
   "language": "python",
   "name": "python3"
  },
  "language_info": {
   "codemirror_mode": {
    "name": "ipython",
    "version": 3
   },
   "file_extension": ".py",
   "mimetype": "text/x-python",
   "name": "python",
   "nbconvert_exporter": "python",
   "pygments_lexer": "ipython3",
   "version": "3.11.0"
  }
 },
 "nbformat": 4,
 "nbformat_minor": 5
}
