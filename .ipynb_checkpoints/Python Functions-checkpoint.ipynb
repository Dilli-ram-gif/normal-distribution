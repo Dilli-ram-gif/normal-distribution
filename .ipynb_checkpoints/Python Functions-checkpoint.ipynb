{
 "cells": [
  {
   "cell_type": "code",
   "execution_count": 1,
   "id": "132a5e68",
   "metadata": {},
   "outputs": [],
   "source": [
    "def greet(message): #message is a parameter or argument passed by the user\n",
    "    print(\"Inside function\")\n",
    "    print(message)"
   ]
  },
  {
   "cell_type": "code",
   "execution_count": 2,
   "id": "a562a6ac",
   "metadata": {},
   "outputs": [
    {
     "name": "stdout",
     "output_type": "stream",
     "text": [
      "Enter something: Hi\n",
      "Inside function\n",
      "Hi\n"
     ]
    }
   ],
   "source": [
    "message = input(\"Enter something: \")\n",
    "greet(message)"
   ]
  },
  {
   "cell_type": "code",
   "execution_count": null,
   "id": "934e570d",
   "metadata": {},
   "outputs": [],
   "source": []
  }
 ],
 "metadata": {
  "kernelspec": {
   "display_name": "Python 3 (ipykernel)",
   "language": "python",
   "name": "python3"
  },
  "language_info": {
   "codemirror_mode": {
    "name": "ipython",
    "version": 3
   },
   "file_extension": ".py",
   "mimetype": "text/x-python",
   "name": "python",
   "nbconvert_exporter": "python",
   "pygments_lexer": "ipython3",
   "version": "3.11.0"
  }
 },
 "nbformat": 4,
 "nbformat_minor": 5
}
