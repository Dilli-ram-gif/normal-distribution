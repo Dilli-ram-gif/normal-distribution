{
 "cells": [
  {
   "cell_type": "code",
   "execution_count": 2,
   "id": "c1840a12",
   "metadata": {},
   "outputs": [],
   "source": [
    "my_dict = {\n",
    "    \"name\": \"Dilliram\",\n",
    "    \"Roll No\": 9,\n",
    "    \"Class\": 12,\n",
    "    \"Address\": \"Kapilvastu\"    \n",
    "}"
   ]
  },
  {
   "cell_type": "code",
   "execution_count": 3,
   "id": "067a38b5",
   "metadata": {},
   "outputs": [],
   "source": [
    "dictionary = {\n",
    "    \"color\": \"White\",\n",
    "    \"size\": \"Green\",\n",
    "    \"weight\": 200\n",
    "}"
   ]
  },
  {
   "cell_type": "code",
   "execution_count": null,
   "id": "6da1d4de",
   "metadata": {},
   "outputs": [],
   "source": []
  }
 ],
 "metadata": {
  "kernelspec": {
   "display_name": "Python 3 (ipykernel)",
   "language": "python",
   "name": "python3"
  },
  "language_info": {
   "codemirror_mode": {
    "name": "ipython",
    "version": 3
   },
   "file_extension": ".py",
   "mimetype": "text/x-python",
   "name": "python",
   "nbconvert_exporter": "python",
   "pygments_lexer": "ipython3",
   "version": "3.11.0"
  }
 },
 "nbformat": 4,
 "nbformat_minor": 5
}
