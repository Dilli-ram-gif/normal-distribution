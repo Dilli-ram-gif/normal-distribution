{
 "cells": [
  {
   "cell_type": "code",
   "execution_count": 1,
   "id": "8f37ee72",
   "metadata": {},
   "outputs": [],
   "source": [
    "from bs4 import BeautifulSoup\n",
    "import requests\n",
    "import logging"
   ]
  },
  {
   "cell_type": "code",
   "execution_count": 2,
   "id": "bee3a08d",
   "metadata": {},
   "outputs": [],
   "source": [
    "url = \"https://www.tutorialspoint.com/\""
   ]
  },
  {
   "cell_type": "code",
   "execution_count": 5,
   "id": "2d80e548",
   "metadata": {},
   "outputs": [],
   "source": [
    "page = requests.get(url)"
   ]
  },
  {
   "cell_type": "code",
   "execution_count": 7,
   "id": "dee0e731",
   "metadata": {},
   "outputs": [],
   "source": [
    "# page.text"
   ]
  },
  {
   "cell_type": "code",
   "execution_count": 8,
   "id": "0091ce0e",
   "metadata": {},
   "outputs": [],
   "source": [
    "outcome = page.text"
   ]
  },
  {
   "cell_type": "code",
   "execution_count": 12,
   "id": "f529bf5d",
   "metadata": {},
   "outputs": [],
   "source": [
    "soup = BeautifulSoup(outcome,'html.parser')"
   ]
  },
  {
   "cell_type": "code",
   "execution_count": 16,
   "id": "152fbc31",
   "metadata": {},
   "outputs": [],
   "source": [
    "# soup"
   ]
  },
  {
   "cell_type": "code",
   "execution_count": 17,
   "id": "0dd86cb2",
   "metadata": {},
   "outputs": [
    {
     "data": {
      "text/plain": [
       "<title>Online Courses and eBooks Library</title>"
      ]
     },
     "execution_count": 17,
     "metadata": {},
     "output_type": "execute_result"
    }
   ],
   "source": [
    "soup.title"
   ]
  },
  {
   "cell_type": "code",
   "execution_count": 18,
   "id": "cac18f31",
   "metadata": {},
   "outputs": [
    {
     "name": "stdout",
     "output_type": "stream",
     "text": [
      "<title>Online Courses and eBooks Library</title>\n"
     ]
    }
   ],
   "source": [
    "print(soup.title)"
   ]
  },
  {
   "cell_type": "code",
   "execution_count": 19,
   "id": "c2c9684a",
   "metadata": {},
   "outputs": [
    {
     "name": "stdout",
     "output_type": "stream",
     "text": [
      "Online Courses and eBooks Library\n"
     ]
    }
   ],
   "source": [
    "print(soup.title.text)"
   ]
  },
  {
   "cell_type": "code",
   "execution_count": 20,
   "id": "4520073c",
   "metadata": {},
   "outputs": [],
   "source": [
    "# To extract all the URLs within the page we can run the following command"
   ]
  },
  {
   "cell_type": "code",
   "execution_count": 25,
   "id": "0174bb4e",
   "metadata": {},
   "outputs": [],
   "source": []
  },
  {
   "cell_type": "code",
   "execution_count": 30,
   "id": "363dc42e",
   "metadata": {},
   "outputs": [],
   "source": [
    "# soup.find_all('a')"
   ]
  },
  {
   "cell_type": "code",
   "execution_count": 31,
   "id": "380f2cb8",
   "metadata": {},
   "outputs": [
    {
     "name": "stdout",
     "output_type": "stream",
     "text": [
      "https://www.tutorialspoint.com/index.htm\n",
      "https://www.tutorialspoint.com/codingground.htm\n",
      "https://www.tutorialspoint.com/about/about_careers.htm\n",
      "https://www.tutorialspoint.com/whiteboard.htm\n",
      "https://www.tutorialspoint.com/online_dev_tools.htm\n",
      "https://www.tutorialspoint.com/business/index.asp\n",
      "https://www.tutorialspoint.com/market/teach_with_us.jsp\n",
      "https://www.facebook.com/tutorialspointindia\n",
      "https://www.instagram.com/tutorialspoint_/\n",
      "https://twitter.com/tutorialspoint\n",
      "https://www.youtube.com/channel/UCVLbzhxVTiTLiVKeGV7WEBg\n",
      "https://www.linkedin.com/authwall?trk=bf&trkInfo=AQEkqX2eckF__gAAAX-wMwEYvrsjBVbEtWQd4pgEdVSzkL22Nik1KEpY_ECWLKDGc41z8IOZWr2Bb0fvJplT60NPBtSw87J6QCpc7wD4qQ3iU13n6xJtBxME5o05Wmpg5JPm5YY=&originalReferer=&sessionRedirect=https%3A%2F%2Fwww.linkedin.com%2Fcompany%2Ftutorialspoint\n",
      "index.htm\n",
      "None\n",
      "https://www.tutorialspoint.com/categories/development\n",
      "https://www.tutorialspoint.com/categories/it_and_software\n",
      "https://www.tutorialspoint.com/categories/data_science_and_ai_ml\n",
      "https://www.tutorialspoint.com/categories/cyber_security\n",
      "https://www.tutorialspoint.com/categories/marketing\n",
      "https://www.tutorialspoint.com/categories/office_productivity\n",
      "https://www.tutorialspoint.com/categories/business\n",
      "https://www.tutorialspoint.com/categories/lifestyle\n",
      "https://www.tutorialspoint.com/latest/prime-packs\n",
      "https://www.tutorialspoint.com/market/index.asp\n",
      "https://www.tutorialspoint.com/latest/ebooks\n",
      "https://www.tutorialspoint.com/tutorialslibrary.htm\n",
      "https://www.tutorialspoint.com/articles/index.php\n",
      "https://www.tutorialspoint.com/market/login.asp\n",
      "https://www.tutorialspoint.com/latest/prime-packs\n",
      "https://www.tutorialspoint.com/market/index.asp\n",
      "https://www.tutorialspoint.com/latest/ebooks\n",
      "https://www.tutorialspoint.com/tutorialslibrary.htm\n",
      "https://www.tutorialspoint.com/articles/index.php\n",
      "https://www.tutorialspoint.com/codingground.htm\n",
      "https://www.tutorialspoint.com/engineering_tutorials.htm\n",
      "https://www.tutorialspoint.com/categories/development\n",
      "https://www.tutorialspoint.com/categories/it_and_software\n",
      "https://www.tutorialspoint.com/categories/data_science_and_ai_ml\n",
      "https://www.tutorialspoint.com/categories/cyber_security\n",
      "https://www.tutorialspoint.com/categories/marketing\n",
      "https://www.tutorialspoint.com/categories/office_productivity\n",
      "https://www.tutorialspoint.com/categories/business\n",
      "https://www.tutorialspoint.com/categories/lifestyle\n",
      "https://www.tutorialspoint.com/latest/prime-packs\n",
      "https://www.tutorialspoint.com/prime-pack/complete-python-prime-pack/index.asp\n",
      "https://www.tutorialspoint.com/prime-pack/cyber-security-prime-pack/index.asp\n",
      "https://www.tutorialspoint.com/prime-pack/fullstack-web-development-prime-pack/index.asp\n",
      "https://www.tutorialspoint.com/prime-pack/artificial-intelligence-and-machine-learning-prime-pack/index.asp\n",
      "https://www.tutorialspoint.com/prime-pack/javascript-prime-pack/index.asp\n",
      "https://www.tutorialspoint.com/prime-pack/data-science-prime-pack/index.asp\n",
      "https://www.tutorialspoint.com/market/index.asp\n",
      "https://www.tutorialspoint.com/html5-and-css3-fundamentals/index.asp\n",
      "https://www.tutorialspoint.com/tableau_online_training/index.asp\n",
      "https://www.tutorialspoint.com/learn_python_programming_from_a_z_beginner_to_expert_course/index.asp\n",
      "https://www.tutorialspoint.com/cyber_security_go_from_zero_to_hero/index.asp\n",
      "https://www.tutorialspoint.com/sql-programming/index.asp\n",
      "https://www.tutorialspoint.com/full-stack-java-developer-java-jsp-restful-ws-spring/index.asp\n",
      "https://www.tutorialspoint.com/tutorialslibrary.htm\n",
      "https://www.tutorialspoint.com/bitcoin/index.htm\n",
      "https://www.tutorialspoint.com/blockchain/index.htm\n",
      "https://www.tutorialspoint.com/blue_prism/index.htm\n",
      "https://www.tutorialspoint.com/ethereum/index.htm\n",
      "https://www.tutorialspoint.com/python_blockchain/index.htm\n",
      "https://www.tutorialspoint.com/openshift/index.htm\n",
      "https://www.tutorialspoint.com/latest_technologies.htm\n",
      "https://www.tutorialspoint.com/machine_learning/index.htm\n",
      "https://www.tutorialspoint.com/tensorflow/index.htm\n",
      "https://www.tutorialspoint.com/machine_learning_with_python/index.htm\n",
      "https://www.tutorialspoint.com/artificial_intelligence_with_python/index.htm\n",
      "https://www.tutorialspoint.com/time_series/index.htm\n",
      "https://www.tutorialspoint.com/pytorch/index.htm\n",
      "https://www.tutorialspoint.com/machine_learning_tutorials.htm\n",
      "https://www.tutorialspoint.com/computer_fundamentals/index.htm\n",
      "https://www.tutorialspoint.com/compiler_design/index.htm\n",
      "https://www.tutorialspoint.com/operating_system/index.htm\n",
      "https://www.tutorialspoint.com/data_structures_algorithms/index.htm\n",
      "https://www.tutorialspoint.com/dbms/index.htm\n",
      "https://www.tutorialspoint.com/data_communication_computer_network/index.htm\n",
      "https://www.tutorialspoint.com/computer_science_tutorials.htm\n",
      "https://www.tutorialspoint.com/html/index.htm\n",
      "https://www.tutorialspoint.com/css/index.htm\n",
      "https://www.tutorialspoint.com/javascript/index.htm\n",
      "https://www.tutorialspoint.com/php/index.htm\n",
      "https://www.tutorialspoint.com/angular4/index.htm\n",
      "https://www.tutorialspoint.com/mysql/index.htm\n",
      "https://www.tutorialspoint.com/web_development_tutorials.htm\n",
      "https://www.tutorialspoint.com/html/index.htm\n",
      "https://www.tutorialspoint.com/cplusplus/index.htm\n",
      "https://www.tutorialspoint.com/java8/index.htm\n",
      "https://www.tutorialspoint.com/python/index.htm\n",
      "https://www.tutorialspoint.com/scala/index.htm\n",
      "https://www.tutorialspoint.com/csharp/index.htm\n",
      "https://www.tutorialspoint.com/computer_programming_tutorials.htm\n",
      "https://www.tutorialspoint.com/java8/index.htm\n",
      "https://www.tutorialspoint.com/jdbc/index.htm\n",
      "https://www.tutorialspoint.com/swing/index.htm\n",
      "https://www.tutorialspoint.com/servlets/index.htm\n",
      "https://www.tutorialspoint.com/spring/index.htm\n",
      "https://www.tutorialspoint.com/hibernate/index.htm\n",
      "https://www.tutorialspoint.com/java_technology_tutorials.htm\n",
      "https://www.tutorialspoint.com/android/index.htm\n",
      "https://www.tutorialspoint.com/swift/index.htm\n",
      "https://www.tutorialspoint.com/ios/index.htm\n",
      "https://www.tutorialspoint.com/kotlin/index.htm\n",
      "https://www.tutorialspoint.com/xamarin/index.htm\n",
      "https://www.tutorialspoint.com/react_native/index.htm\n",
      "https://www.tutorialspoint.com/mobile_development_tutorials.htm\n",
      "https://www.tutorialspoint.com/mongodb/index.htm\n",
      "https://www.tutorialspoint.com/plsql/index.htm\n",
      "https://www.tutorialspoint.com/sql/index.htm\n",
      "https://www.tutorialspoint.com/db2/index.htm\n",
      "https://www.tutorialspoint.com/mysql/index.htm\n",
      "https://www.tutorialspoint.com/memcached/index.htm\n",
      "https://www.tutorialspoint.com/database_tutorials.htm\n",
      "https://www.tutorialspoint.com/asp.net/index.htm\n",
      "https://www.tutorialspoint.com/entity_framework/index.htm\n",
      "https://www.tutorialspoint.com/vb.net/index.htm\n",
      "https://www.tutorialspoint.com/ms_project/index.htm\n",
      "https://www.tutorialspoint.com/excel/index.htm\n",
      "https://www.tutorialspoint.com/word/index.htm\n",
      "https://www.tutorialspoint.com/microsoft_technologies_tutorials.htm\n",
      "https://www.tutorialspoint.com/big_data_analytics/index.htm\n",
      "https://www.tutorialspoint.com/hadoop/index.htm\n",
      "https://www.tutorialspoint.com/sas/index.htm\n",
      "https://www.tutorialspoint.com/qlikview/index.htm\n",
      "https://www.tutorialspoint.com/power_bi/index.htm\n",
      "https://www.tutorialspoint.com/tableau/index.htm\n",
      "https://www.tutorialspoint.com/big_data_tutorials.htm\n",
      "https://www.tutorialspoint.com/market/business/subscription.jsp\n",
      "https://www.tutorialspoint.com/business/index.asp\n",
      "https://www.tutorialspoint.com/business/index.asp#demoRequest\n",
      "https://www.tutorialspoint.com/developers_best_practices/index.htm\n",
      "https://www.tutorialspoint.com/effective_resume_writing.htm\n",
      "https://www.tutorialspoint.com/computer_glossary.htm\n",
      "https://www.tutorialspoint.com/computer_whoiswho.htm\n",
      "https://www.tutorialspoint.com/questions_and_answers.htm\n",
      "https://www.tutorialspoint.com/multi_language_tutorials.htm\n",
      "index.htm\n",
      "https://play.google.com/store/apps/details?id=com.tutorialspoint.onlineviewer\n",
      "https://itunes.apple.com/us/app/tutorials-point/id914891263?ls=1&mt=8\n",
      "/about/index.htm\n",
      "/about/about_team.htm\n",
      "/about/about_careers.htm\n",
      "https://www.tutorialspoint.com/about/about_helping.htm\n",
      "#\n",
      "/about/about_terms_of_use.htm\n",
      "/about/about_privacy.htm\n",
      "/about/about_cookies.htm\n",
      "/about/return_refund_policy.htm\n",
      "/about/faq.htm\n",
      "https://www.tutorialspoint.com/online_dev_tools.htm\n",
      "https://www.tutorialspoint.com/free_web_graphics.htm\n",
      "https://www.tutorialspoint.com/online_file_conversion.htm\n",
      "https://www.tutorialspoint.com/netmeeting.php\n",
      "https://www.tutorialspoint.com/free_online_whiteboard.htm\n",
      "about/contact_us.htm\n",
      "https://www.facebook.com/tutorialspointindia\n",
      "https://www.instagram.com/tutorialspoint_/\n",
      "https://www.youtube.com/channel/UCVLbzhxVTiTLiVKeGV7WEBg\n",
      "https://twitter.com/tutorialspoint\n",
      "https://www.linkedin.com/authwall?trk=bf&trkInfo=AQEkqX2eckF__gAAAX-wMwEYvrsjBVbEtWQd4pgEdVSzkL22Nik1KEpY_ECWLKDGc41z8IOZWr2Bb0fvJplT60NPBtSw87J6QCpc7wD4qQ3iU13n6xJtBxME5o05Wmpg5JPm5YY=&originalReferer=&sessionRedirect=https%3A%2F%2Fwww.linkedin.com%2Fcompany%2Ftutorialspoint\n",
      "#\n",
      "/about/return_refund_policy.htm\n",
      "/about/about_terms_of_use.htm\n",
      "/about/about_privacy.htm\n"
     ]
    }
   ],
   "source": [
    "for link in soup.find_all('a'):\n",
    "    print(link.get('href'))"
   ]
  },
  {
   "cell_type": "code",
   "execution_count": null,
   "id": "2bc196cc",
   "metadata": {},
   "outputs": [],
   "source": []
  }
 ],
 "metadata": {
  "kernelspec": {
   "display_name": "Python 3 (ipykernel)",
   "language": "python",
   "name": "python3"
  },
  "language_info": {
   "codemirror_mode": {
    "name": "ipython",
    "version": 3
   },
   "file_extension": ".py",
   "mimetype": "text/x-python",
   "name": "python",
   "nbconvert_exporter": "python",
   "pygments_lexer": "ipython3",
   "version": "3.10.9"
  }
 },
 "nbformat": 4,
 "nbformat_minor": 5
}
