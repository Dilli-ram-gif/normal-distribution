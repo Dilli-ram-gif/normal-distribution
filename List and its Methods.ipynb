{
 "cells": [
  {
   "cell_type": "markdown",
   "id": "e9678423",
   "metadata": {},
   "source": [
    "## List and its Methods"
   ]
  },
  {
   "cell_type": "code",
   "execution_count": 4,
   "id": "0a8b7db2",
   "metadata": {},
   "outputs": [],
   "source": [
    "first_list = [\"Ram\",\"Shyam\",\"Hari\",\"Nitu\"]\n",
    "second_list = [\"Shrijana\",\"Manita\",\"Bibek\",\"Aakash\"]\n",
    "              \n",
    "first_list.extend(second_list)     "
   ]
  },
  {
   "cell_type": "code",
   "execution_count": 5,
   "id": "1632e5c8",
   "metadata": {},
   "outputs": [
    {
     "data": {
      "text/plain": [
       "['Ram', 'Shyam', 'Hari', 'Nitu', 'Shrijana', 'Manita', 'Bibek', 'Aakash']"
      ]
     },
     "execution_count": 5,
     "metadata": {},
     "output_type": "execute_result"
    }
   ],
   "source": [
    "first_list"
   ]
  },
  {
   "cell_type": "code",
   "execution_count": null,
   "id": "d3044e4e",
   "metadata": {},
   "outputs": [],
   "source": []
  }
 ],
 "metadata": {
  "kernelspec": {
   "display_name": "Python 3 (ipykernel)",
   "language": "python",
   "name": "python3"
  },
  "language_info": {
   "codemirror_mode": {
    "name": "ipython",
    "version": 3
   },
   "file_extension": ".py",
   "mimetype": "text/x-python",
   "name": "python",
   "nbconvert_exporter": "python",
   "pygments_lexer": "ipython3",
   "version": "3.11.0"
  }
 },
 "nbformat": 4,
 "nbformat_minor": 5
}
