{
 "cells": [
  {
   "cell_type": "markdown",
   "id": "749e16e3",
   "metadata": {},
   "source": [
    "### Ways to create a list"
   ]
  },
  {
   "cell_type": "code",
   "execution_count": 1,
   "id": "1b966785",
   "metadata": {},
   "outputs": [],
   "source": [
    "list_one = list((1,2,\"three\"))"
   ]
  },
  {
   "cell_type": "code",
   "execution_count": 2,
   "id": "a9dd2261",
   "metadata": {},
   "outputs": [
    {
     "name": "stdout",
     "output_type": "stream",
     "text": [
      "[1, 2, 'three']\n"
     ]
    }
   ],
   "source": [
    "print(list_one)"
   ]
  },
  {
   "cell_type": "code",
   "execution_count": 3,
   "id": "c8c64d48",
   "metadata": {},
   "outputs": [
    {
     "data": {
      "text/plain": [
       "1"
      ]
     },
     "execution_count": 3,
     "metadata": {},
     "output_type": "execute_result"
    }
   ],
   "source": [
    "list_one[0]"
   ]
  },
  {
   "cell_type": "code",
   "execution_count": 4,
   "id": "7b21e856",
   "metadata": {},
   "outputs": [
    {
     "data": {
      "text/plain": [
       "'three'"
      ]
     },
     "execution_count": 4,
     "metadata": {},
     "output_type": "execute_result"
    }
   ],
   "source": [
    "list_one[2]"
   ]
  },
  {
   "cell_type": "code",
   "execution_count": 5,
   "id": "91524c9e",
   "metadata": {},
   "outputs": [
    {
     "data": {
      "text/plain": [
       "list"
      ]
     },
     "execution_count": 5,
     "metadata": {},
     "output_type": "execute_result"
    }
   ],
   "source": [
    "type(list_one)"
   ]
  },
  {
   "cell_type": "code",
   "execution_count": 6,
   "id": "58634823",
   "metadata": {},
   "outputs": [],
   "source": [
    "# This is the another way to create a list"
   ]
  },
  {
   "cell_type": "code",
   "execution_count": 7,
   "id": "f471345e",
   "metadata": {},
   "outputs": [],
   "source": [
    "list_two = [2,4,5,6,\"eight\"]"
   ]
  },
  {
   "cell_type": "code",
   "execution_count": 8,
   "id": "9709cbe8",
   "metadata": {},
   "outputs": [
    {
     "data": {
      "text/plain": [
       "'eight'"
      ]
     },
     "execution_count": 8,
     "metadata": {},
     "output_type": "execute_result"
    }
   ],
   "source": [
    "list_two[4]"
   ]
  },
  {
   "cell_type": "code",
   "execution_count": 10,
   "id": "6da7b856",
   "metadata": {},
   "outputs": [
    {
     "name": "stdout",
     "output_type": "stream",
     "text": [
      "The summation of the numbers is 30\n"
     ]
    }
   ],
   "source": [
    "def summation(number1, number2):\n",
    "    return number1 + number2\n",
    "\n",
    "called_variable = summation(10,20)\n",
    "\n",
    "print(f\"The summation of the numbers is {called_variable}\")"
   ]
  },
  {
   "cell_type": "code",
   "execution_count": 14,
   "id": "fe8cdb81",
   "metadata": {},
   "outputs": [
    {
     "name": "stdout",
     "output_type": "stream",
     "text": [
      "5050\n"
     ]
    }
   ],
   "source": [
    "total = 0\n",
    "for index in range(1,101,1):\n",
    "    total = total + index\n",
    "print(total)    "
   ]
  },
  {
   "cell_type": "markdown",
   "id": "857f0d62",
   "metadata": {},
   "source": [
    "### Summing the numbers of a list"
   ]
  },
  {
   "cell_type": "code",
   "execution_count": 19,
   "id": "36bc3347",
   "metadata": {},
   "outputs": [
    {
     "name": "stdout",
     "output_type": "stream",
     "text": [
      "144\n"
     ]
    }
   ],
   "source": [
    "my_list = [1,3,5,7,9,11,13,15,17,19,21,23]\n",
    "\n",
    "total = 0\n",
    "for i in my_list:\n",
    "    total += i\n",
    "print(total)    \n",
    "\n"
   ]
  },
  {
   "cell_type": "code",
   "execution_count": null,
   "id": "daec1a9a",
   "metadata": {},
   "outputs": [],
   "source": []
  }
 ],
 "metadata": {
  "kernelspec": {
   "display_name": "Python 3 (ipykernel)",
   "language": "python",
   "name": "python3"
  },
  "language_info": {
   "codemirror_mode": {
    "name": "ipython",
    "version": 3
   },
   "file_extension": ".py",
   "mimetype": "text/x-python",
   "name": "python",
   "nbconvert_exporter": "python",
   "pygments_lexer": "ipython3",
   "version": "3.11.0"
  }
 },
 "nbformat": 4,
 "nbformat_minor": 5
}
