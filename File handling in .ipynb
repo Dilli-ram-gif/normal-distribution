{
 "cells": [
  {
   "cell_type": "markdown",
   "id": "6db9c4d0",
   "metadata": {},
   "source": [
    "### opening a file"
   ]
  },
  {
   "cell_type": "code",
   "execution_count": 4,
   "id": "ed5acd1b",
   "metadata": {},
   "outputs": [],
   "source": []
  },
  {
   "cell_type": "code",
   "execution_count": 9,
   "id": "0560e1a8",
   "metadata": {},
   "outputs": [
    {
     "name": "stdout",
     "output_type": "stream",
     "text": [
      "Python is a high-level, general-purpose programming language. Its design philosophy emphasizes code readability with the use of significant indentation.[33]\n",
      "\n",
      "Python is dynamically-typed and garbage-collected. It supports multiple programming paradigms, including structured (particularly procedural), object-oriented and functional programming. It is often described as a \"batteries included\" language due to its comprehensive standard library\n"
     ]
    }
   ],
   "source": [
    "with open('news.txt', 'r') as file:\n",
    "    text = file.read()\n",
    "    \n",
    "print(text)    "
   ]
  },
  {
   "cell_type": "code",
   "execution_count": 11,
   "id": "e1b02b7a",
   "metadata": {},
   "outputs": [
    {
     "name": "stdout",
     "output_type": "stream",
     "text": [
      "Python is a high-level, general-purpose programming language. Its design philosophy emphasizes code readability with the use of significant indentation.[33]\n",
      "\n"
     ]
    }
   ],
   "source": [
    "with open('news.txt', 'r') as file:\n",
    "    text = file.readline()\n",
    "    \n",
    "print(text)    "
   ]
  },
  {
   "cell_type": "code",
   "execution_count": 12,
   "id": "f0b43ea0",
   "metadata": {},
   "outputs": [
    {
     "data": {
      "text/plain": [
       "157"
      ]
     },
     "execution_count": 12,
     "metadata": {},
     "output_type": "execute_result"
    }
   ],
   "source": [
    "len(text)"
   ]
  },
  {
   "cell_type": "markdown",
   "id": "d8042c6d",
   "metadata": {},
   "source": [
    "### write mode : creates file if it doesn't exist. If exists then it replaces old one and creates new one (Old data gets lost)"
   ]
  },
  {
   "cell_type": "code",
   "execution_count": 14,
   "id": "d83fb07a",
   "metadata": {},
   "outputs": [],
   "source": [
    "with  open('write.txt', 'w') as file:\n",
    "    file.write(\"I love Python\")"
   ]
  },
  {
   "cell_type": "code",
   "execution_count": 15,
   "id": "2d0c5ac9",
   "metadata": {},
   "outputs": [
    {
     "data": {
      "text/plain": [
       "'I love Python'"
      ]
     },
     "execution_count": 15,
     "metadata": {},
     "output_type": "execute_result"
    }
   ],
   "source": [
    "with open('write.txt', 'r') as file:\n",
    "    text = file.read()\n",
    "\n",
    "text    "
   ]
  },
  {
   "cell_type": "code",
   "execution_count": 16,
   "id": "edc80f22",
   "metadata": {},
   "outputs": [],
   "source": [
    "with open('write.txt', 'w') as file:\n",
    "    file.write('I love programming.')"
   ]
  },
  {
   "cell_type": "code",
   "execution_count": 17,
   "id": "267493e4",
   "metadata": {},
   "outputs": [],
   "source": [
    "with open('write.txt', 'r') as file:\n",
    "    text = file.read()"
   ]
  },
  {
   "cell_type": "code",
   "execution_count": 18,
   "id": "160a9979",
   "metadata": {},
   "outputs": [
    {
     "data": {
      "text/plain": [
       "'I love Python'"
      ]
     },
     "execution_count": 18,
     "metadata": {},
     "output_type": "execute_result"
    }
   ],
   "source": [
    "text"
   ]
  },
  {
   "cell_type": "markdown",
   "id": "e9bea0ad",
   "metadata": {},
   "source": [
    "### Append mode"
   ]
  },
  {
   "cell_type": "code",
   "execution_count": 24,
   "id": "3f09e7ad",
   "metadata": {},
   "outputs": [],
   "source": [
    "with open('write.txt', 'a') as file:\n",
    "    file.write(\" Python is my favourite language\")"
   ]
  },
  {
   "cell_type": "code",
   "execution_count": 25,
   "id": "bdfbcfc9",
   "metadata": {},
   "outputs": [
    {
     "data": {
      "text/plain": [
       "'I love programming.Python is my favourite language Python is my favourite language Python is my favourite language'"
      ]
     },
     "execution_count": 25,
     "metadata": {},
     "output_type": "execute_result"
    }
   ],
   "source": [
    "with  open('write.txt','r') as file:\n",
    "    text = file.read()\n",
    "\n",
    "text    "
   ]
  },
  {
   "cell_type": "code",
   "execution_count": 21,
   "id": "0a03a5b2",
   "metadata": {},
   "outputs": [],
   "source": [
    "with open('append.txt','a') as f:\n",
    "    f.write(\"Append mode creates a new file it doesn't exist.\")"
   ]
  },
  {
   "cell_type": "code",
   "execution_count": 22,
   "id": "64af15bf",
   "metadata": {},
   "outputs": [
    {
     "data": {
      "text/plain": [
       "\"Append mode creates a new file it doesn't exist.\""
      ]
     },
     "execution_count": 22,
     "metadata": {},
     "output_type": "execute_result"
    }
   ],
   "source": [
    "with open('append.txt','r') as f:\n",
    "    txt = f.read()\n",
    "txt    "
   ]
  },
  {
   "cell_type": "code",
   "execution_count": null,
   "id": "5722cce9",
   "metadata": {},
   "outputs": [],
   "source": []
  }
 ],
 "metadata": {
  "kernelspec": {
   "display_name": "Python 3 (ipykernel)",
   "language": "python",
   "name": "python3"
  },
  "language_info": {
   "codemirror_mode": {
    "name": "ipython",
    "version": 3
   },
   "file_extension": ".py",
   "mimetype": "text/x-python",
   "name": "python",
   "nbconvert_exporter": "python",
   "pygments_lexer": "ipython3",
   "version": "3.11.0"
  }
 },
 "nbformat": 4,
 "nbformat_minor": 5
}
