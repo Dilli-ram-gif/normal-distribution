{
 "cells": [
  {
   "cell_type": "markdown",
   "id": "183edc69",
   "metadata": {},
   "source": [
    "### This is the string practice session"
   ]
  },
  {
   "cell_type": "markdown",
   "id": "6ca156cf",
   "metadata": {},
   "source": [
    "#### The use of isalpha()\n"
   ]
  },
  {
   "cell_type": "code",
   "execution_count": 2,
   "id": "c1c8978a",
   "metadata": {},
   "outputs": [
    {
     "name": "stdout",
     "output_type": "stream",
     "text": [
      "True\n"
     ]
    }
   ],
   "source": [
    "string = \"Hello\"\n",
    "print(string.isalpha())"
   ]
  },
  {
   "cell_type": "code",
   "execution_count": 4,
   "id": "fbae9557",
   "metadata": {},
   "outputs": [
    {
     "name": "stdout",
     "output_type": "stream",
     "text": [
      "yes\n",
      "yes\n",
      "yes\n",
      "yes\n",
      "yes\n",
      "no\n",
      "no\n",
      "no\n",
      "yes\n",
      "yes\n",
      "yes\n",
      "yes\n"
     ]
    }
   ],
   "source": [
    "new_string = \"hello123dear\"\n",
    "for i in new_string:\n",
    "    if i.isalpha() == True:\n",
    "        print(\"yes\")\n",
    "    else:\n",
    "        print(\"no\")"
   ]
  },
  {
   "cell_type": "markdown",
   "id": "ec97d81a",
   "metadata": {},
   "source": [
    "##### Separating alpha and num"
   ]
  },
  {
   "cell_type": "code",
   "execution_count": 8,
   "id": "3e335217",
   "metadata": {},
   "outputs": [
    {
     "name": "stdout",
     "output_type": "stream",
     "text": [
      "The characters are: ['I', 'a', 'm', 'd', 'o', 'n', 'o', 'k', 'k'] and the numbers are ['4', '5', '6', '7']\n"
     ]
    }
   ],
   "source": [
    "original_str = \"Iamdon45okk67\"\n",
    "character = []\n",
    "number = []\n",
    "for i in original_str:\n",
    "    if i.isalpha() == True:     #Note down: Please do not forget to write parentheses\n",
    "        character.append(i)\n",
    "    else:\n",
    "        number.append(i)\n",
    "print(f\"The characters are: {character} and the numbers are {number}\")"
   ]
  },
  {
   "cell_type": "markdown",
   "id": "0aee4dca",
   "metadata": {},
   "source": [
    "#### Using isdigit()  method"
   ]
  },
  {
   "cell_type": "code",
   "execution_count": 9,
   "id": "3da7d5c9",
   "metadata": {},
   "outputs": [
    {
     "name": "stdout",
     "output_type": "stream",
     "text": [
      "the digits are ['1', '2', '5', '6'] and the characters are ['m', 'y', 's', 't', 'r', 'i', 'n', 'g', 't', 'h', 'i', 's', '!']\n"
     ]
    }
   ],
   "source": [
    "my_str = \"12mystring56this!\"\n",
    "digit = []\n",
    "character = []\n",
    "for i in my_str:\n",
    "    if i.isdigit() == True:\n",
    "        digit.append(i)\n",
    "    else:\n",
    "        character.append(i)\n",
    "print(f\"the digits are {digit} and the characters are {character}\")"
   ]
  },
  {
   "cell_type": "markdown",
   "id": "55e5b598",
   "metadata": {},
   "source": [
    "#### Using split() method in string"
   ]
  },
  {
   "cell_type": "code",
   "execution_count": 10,
   "id": "fe692f94",
   "metadata": {},
   "outputs": [
    {
     "name": "stdout",
     "output_type": "stream",
     "text": [
      "['Dilliram']\n"
     ]
    }
   ],
   "source": [
    "name = \"Dilliram\"\n",
    "print(name.split())"
   ]
  },
  {
   "cell_type": "code",
   "execution_count": 11,
   "id": "b30ca714",
   "metadata": {},
   "outputs": [
    {
     "data": {
      "text/plain": [
       "['Dilliram']"
      ]
     },
     "execution_count": 11,
     "metadata": {},
     "output_type": "execute_result"
    }
   ],
   "source": [
    "name.split()"
   ]
  },
  {
   "cell_type": "code",
   "execution_count": 13,
   "id": "d5e7fde1",
   "metadata": {},
   "outputs": [
    {
     "data": {
      "text/plain": [
       "['Dilliram']"
      ]
     },
     "execution_count": 13,
     "metadata": {},
     "output_type": "execute_result"
    }
   ],
   "source": [
    "name.split(\",\")"
   ]
  },
  {
   "cell_type": "code",
   "execution_count": 16,
   "id": "b08ab596",
   "metadata": {},
   "outputs": [],
   "source": [
    "for i in name:\n",
    "    okay = name.split()"
   ]
  },
  {
   "cell_type": "code",
   "execution_count": 17,
   "id": "1bb30d3f",
   "metadata": {},
   "outputs": [
    {
     "data": {
      "text/plain": [
       "['Dilliram']"
      ]
     },
     "execution_count": 17,
     "metadata": {},
     "output_type": "execute_result"
    }
   ],
   "source": [
    "okay\n"
   ]
  },
  {
   "cell_type": "code",
   "execution_count": 20,
   "id": "0b101772",
   "metadata": {},
   "outputs": [],
   "source": [
    "village = \"gorusinge23\"\n",
    "new_list = []\n",
    "for i in village:\n",
    "    if i.isalnum() == True:\n",
    "        new_list.append(i)\n",
    "    "
   ]
  },
  {
   "cell_type": "code",
   "execution_count": 21,
   "id": "7ae9d4de",
   "metadata": {},
   "outputs": [
    {
     "data": {
      "text/plain": [
       "['g', 'o', 'r', 'u', 's', 'i', 'n', 'g', 'e', '2', '3']"
      ]
     },
     "execution_count": 21,
     "metadata": {},
     "output_type": "execute_result"
    }
   ],
   "source": [
    "new_list"
   ]
  },
  {
   "cell_type": "markdown",
   "id": "fd9e8b9a",
   "metadata": {},
   "source": [
    "#### Using join() method for string"
   ]
  },
  {
   "cell_type": "code",
   "execution_count": 27,
   "id": "23f11dc1",
   "metadata": {},
   "outputs": [],
   "source": [
    "for i in new_list:\n",
    "    okay = \"\".join(new_list)   #"
   ]
  },
  {
   "cell_type": "code",
   "execution_count": 30,
   "id": "2a2c867a",
   "metadata": {},
   "outputs": [
    {
     "data": {
      "text/plain": [
       "'gorusinge23'"
      ]
     },
     "execution_count": 30,
     "metadata": {},
     "output_type": "execute_result"
    }
   ],
   "source": [
    "okay"
   ]
  },
  {
   "cell_type": "markdown",
   "id": "df6b6445",
   "metadata": {},
   "source": [
    "#### Look here, we should pass the list inside the join method, not the iterable"
   ]
  },
  {
   "cell_type": "code",
   "execution_count": 28,
   "id": "5919f2ba",
   "metadata": {},
   "outputs": [
    {
     "data": {
      "text/plain": [
       "['g', 'o', 'r', 'u', 's', 'i', 'n', 'g', 'e', '2', '3']"
      ]
     },
     "execution_count": 28,
     "metadata": {},
     "output_type": "execute_result"
    }
   ],
   "source": [
    "new_list"
   ]
  },
  {
   "cell_type": "code",
   "execution_count": 29,
   "id": "5805d922",
   "metadata": {},
   "outputs": [
    {
     "data": {
      "text/plain": [
       "'gorusinge23'"
      ]
     },
     "execution_count": 29,
     "metadata": {},
     "output_type": "execute_result"
    }
   ],
   "source": [
    "okay"
   ]
  },
  {
   "cell_type": "markdown",
   "id": "87c81a7a",
   "metadata": {},
   "source": [
    "#### The use of strip() method of string"
   ]
  },
  {
   "cell_type": "code",
   "execution_count": 33,
   "id": "9a845afe",
   "metadata": {},
   "outputs": [
    {
     "name": "stdout",
     "output_type": "stream",
     "text": [
      "  Hello, Denish, How are you doing?  \n",
      "Hello, Denish, How are you doing?\n"
     ]
    }
   ],
   "source": [
    "my_string = \"  Hello, Denish, How are you doing?  \"\n",
    "print(my_string)   # It will contain the spaces at the beginning and end of the string\n",
    "print(my_string.strip())  # It will remove the spaces at the beginning and end of the string"
   ]
  },
  {
   "cell_type": "code",
   "execution_count": null,
   "id": "36ce96ee",
   "metadata": {},
   "outputs": [],
   "source": []
  }
 ],
 "metadata": {
  "kernelspec": {
   "display_name": "Python 3 (ipykernel)",
   "language": "python",
   "name": "python3"
  },
  "language_info": {
   "codemirror_mode": {
    "name": "ipython",
    "version": 3
   },
   "file_extension": ".py",
   "mimetype": "text/x-python",
   "name": "python",
   "nbconvert_exporter": "python",
   "pygments_lexer": "ipython3",
   "version": "3.10.9"
  }
 },
 "nbformat": 4,
 "nbformat_minor": 5
}
