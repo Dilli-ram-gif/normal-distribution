{
 "cells": [
  {
   "cell_type": "markdown",
   "id": "b12d44cb",
   "metadata": {},
   "source": [
    "### Calculating factorial of a number"
   ]
  },
  {
   "cell_type": "code",
   "execution_count": 3,
   "id": "63a6302d",
   "metadata": {},
   "outputs": [],
   "source": [
    "def factorial(n):\n",
    "    if n == 1 or n==0:\n",
    "        return 1\n",
    "    else:\n",
    "        return n*factorial(n-1)\n",
    "\n",
    "  "
   ]
  },
  {
   "cell_type": "code",
   "execution_count": 6,
   "id": "70933fac",
   "metadata": {},
   "outputs": [
    {
     "name": "stdout",
     "output_type": "stream",
     "text": [
      "The factorial value is 120\n"
     ]
    }
   ],
   "source": [
    "fac = factorial (5)\n",
    "print(f\"The factorial value is {fac}\")"
   ]
  },
  {
   "cell_type": "code",
   "execution_count": null,
   "id": "a024cf10",
   "metadata": {},
   "outputs": [],
   "source": []
  }
 ],
 "metadata": {
  "kernelspec": {
   "display_name": "Python 3 (ipykernel)",
   "language": "python",
   "name": "python3"
  },
  "language_info": {
   "codemirror_mode": {
    "name": "ipython",
    "version": 3
   },
   "file_extension": ".py",
   "mimetype": "text/x-python",
   "name": "python",
   "nbconvert_exporter": "python",
   "pygments_lexer": "ipython3",
   "version": "3.11.0"
  }
 },
 "nbformat": 4,
 "nbformat_minor": 5
}
