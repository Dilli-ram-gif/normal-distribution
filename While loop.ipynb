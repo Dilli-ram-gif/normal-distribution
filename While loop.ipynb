{
 "cells": [
  {
   "cell_type": "markdown",
   "id": "976d1553",
   "metadata": {},
   "source": [
    "### Using While Loop"
   ]
  },
  {
   "cell_type": "code",
   "execution_count": 6,
   "id": "52905bcd",
   "metadata": {},
   "outputs": [
    {
     "name": "stdout",
     "output_type": "stream",
     "text": [
      "1\n",
      "2\n",
      "3\n",
      "4\n",
      "5\n",
      "6\n",
      "7\n",
      "8\n",
      "9\n",
      "10\n",
      "11\n",
      "12\n",
      "13\n",
      "14\n",
      "15\n",
      "16\n",
      "17\n",
      "18\n",
      "19\n",
      "20\n"
     ]
    }
   ],
   "source": [
    "x = 1\n",
    "while x <= 20:\n",
    "    print(x)\n",
    "    x = x+1\n",
    "    "
   ]
  },
  {
   "cell_type": "code",
   "execution_count": 7,
   "id": "26605631",
   "metadata": {},
   "outputs": [
    {
     "data": {
      "text/plain": [
       "range(0, 10)"
      ]
     },
     "execution_count": 7,
     "metadata": {},
     "output_type": "execute_result"
    }
   ],
   "source": [
    "range(10)"
   ]
  },
  {
   "cell_type": "code",
   "execution_count": 8,
   "id": "e3de0417",
   "metadata": {},
   "outputs": [
    {
     "name": "stdout",
     "output_type": "stream",
     "text": [
      "range(0, 10)\n"
     ]
    }
   ],
   "source": [
    "print(range(10))"
   ]
  },
  {
   "cell_type": "code",
   "execution_count": 9,
   "id": "028f4cc6",
   "metadata": {},
   "outputs": [
    {
     "name": "stdout",
     "output_type": "stream",
     "text": [
      "0\n",
      "1\n",
      "4\n",
      "9\n",
      "16\n",
      "25\n",
      "36\n",
      "49\n",
      "64\n",
      "81\n"
     ]
    }
   ],
   "source": [
    "for n in range(10):\n",
    "    print(n**2)"
   ]
  },
  {
   "cell_type": "code",
   "execution_count": 11,
   "id": "4960fd85",
   "metadata": {},
   "outputs": [
    {
     "name": "stdout",
     "output_type": "stream",
     "text": [
      "0\n",
      "Odd\n",
      "2\n",
      "Odd\n",
      "4\n",
      "Odd\n",
      "6\n",
      "Odd\n",
      "8\n",
      "Odd\n",
      "10\n",
      "Odd\n",
      "12\n",
      "Odd\n",
      "14\n",
      "Odd\n",
      "16\n",
      "Odd\n",
      "18\n",
      "Odd\n"
     ]
    }
   ],
   "source": [
    "for number in range(20):\n",
    "    if number %2 == 0:\n",
    "        print(number)\n",
    "    else:\n",
    "        print(\"Odd\")"
   ]
  },
  {
   "cell_type": "markdown",
   "id": "1d0a4a85",
   "metadata": {},
   "source": [
    "### Using for loop on list"
   ]
  },
  {
   "cell_type": "code",
   "execution_count": 12,
   "id": "5df17953",
   "metadata": {},
   "outputs": [
    {
     "name": "stdout",
     "output_type": "stream",
     "text": [
      "Ram\n",
      "Shyam\n",
      "Rabi\n",
      "Dinesh\n"
     ]
    }
   ],
   "source": [
    "list_1 = [\"Ram\", \"Shyam\", \"Rabi\", \"Dinesh\"]\n",
    "for item in list_1:\n",
    "    print(item)"
   ]
  },
  {
   "cell_type": "code",
   "execution_count": 17,
   "id": "d7bda1c8",
   "metadata": {},
   "outputs": [
    {
     "name": "stdout",
     "output_type": "stream",
     "text": [
      "0 = 1\n",
      "1 = 2\n",
      "2 = 3\n",
      "3 = 4\n",
      "4 = 5\n",
      "5 = 6\n",
      "6 = 7\n",
      "7 = 8\n",
      "8 = 8\n",
      "9 = 10\n"
     ]
    }
   ],
   "source": [
    "list_2 = [1,2,3,4,5,6,7,8,8,10]\n",
    "for i in range(len(list_2)):\n",
    "    x = list_2[i]\n",
    "    print(i,\"=\",x)\n",
    "    "
   ]
  },
  {
   "cell_type": "markdown",
   "id": "9d73c027",
   "metadata": {},
   "source": [
    "### Passing a list in a function"
   ]
  },
  {
   "cell_type": "code",
   "execution_count": 18,
   "id": "302b1c20",
   "metadata": {},
   "outputs": [],
   "source": [
    "def counting_number(numbers):\n",
    "    total = 0\n",
    "    for x in numbers:\n",
    "        if x < 20:\n",
    "            total += 1\n",
    "    return total       "
   ]
  },
  {
   "cell_type": "code",
   "execution_count": 19,
   "id": "6804f579",
   "metadata": {},
   "outputs": [],
   "source": [
    "list_3 = [1,4,20,22,17,18,15,32,50]"
   ]
  },
  {
   "cell_type": "code",
   "execution_count": 21,
   "id": "45824e1f",
   "metadata": {},
   "outputs": [
    {
     "data": {
      "text/plain": [
       "5"
      ]
     },
     "execution_count": 21,
     "metadata": {},
     "output_type": "execute_result"
    }
   ],
   "source": [
    "counting_number(list_3)"
   ]
  },
  {
   "cell_type": "code",
   "execution_count": null,
   "id": "a6f124a7",
   "metadata": {},
   "outputs": [],
   "source": []
  }
 ],
 "metadata": {
  "kernelspec": {
   "display_name": "Python 3 (ipykernel)",
   "language": "python",
   "name": "python3"
  },
  "language_info": {
   "codemirror_mode": {
    "name": "ipython",
    "version": 3
   },
   "file_extension": ".py",
   "mimetype": "text/x-python",
   "name": "python",
   "nbconvert_exporter": "python",
   "pygments_lexer": "ipython3",
   "version": "3.11.0"
  }
 },
 "nbformat": 4,
 "nbformat_minor": 5
}
