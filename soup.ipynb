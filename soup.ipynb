{
 "cells": [
  {
   "cell_type": "code",
   "execution_count": 4,
   "id": "ff1730a9",
   "metadata": {},
   "outputs": [],
   "source": [
    "from bs4 import BeautifulSoup\n",
    "import requests\n",
    "import logging"
   ]
  },
  {
   "cell_type": "code",
   "execution_count": 5,
   "id": "6785dd11",
   "metadata": {},
   "outputs": [],
   "source": [
    "url = \"https://www.tutorialspoint.com/\""
   ]
  },
  {
   "cell_type": "code",
   "execution_count": 6,
   "id": "865c9d8a",
   "metadata": {},
   "outputs": [],
   "source": [
    "page = requests.get(url)"
   ]
  },
  {
   "cell_type": "code",
   "execution_count": 7,
   "id": "452e04b8",
   "metadata": {},
   "outputs": [],
   "source": [
    "# page.text"
   ]
  },
  {
   "cell_type": "code",
   "execution_count": 8,
   "id": "4e3a50c5",
   "metadata": {},
   "outputs": [],
   "source": [
    "outcome = page.text"
   ]
  },
  {
   "cell_type": "code",
   "execution_count": 9,
   "id": "30a57564",
   "metadata": {},
   "outputs": [],
   "source": [
    "soup = BeautifulSoup(outcome,'html.parser')"
   ]
  },
  {
   "cell_type": "code",
   "execution_count": 10,
   "id": "f121d7cd",
   "metadata": {},
   "outputs": [],
   "source": [
    "# soup"
   ]
  },
  {
   "cell_type": "code",
   "execution_count": 11,
   "id": "75b60d8b",
   "metadata": {},
   "outputs": [
    {
     "data": {
      "text/plain": [
       "<title>Online Courses and eBooks Library</title>"
      ]
     },
     "execution_count": 11,
     "metadata": {},
     "output_type": "execute_result"
    }
   ],
   "source": [
    "soup.title"
   ]
  },
  {
   "cell_type": "code",
   "execution_count": 12,
   "id": "af5232ed",
   "metadata": {},
   "outputs": [
    {
     "name": "stdout",
     "output_type": "stream",
     "text": [
      "<title>Online Courses and eBooks Library</title>\n"
     ]
    }
   ],
   "source": [
    "print(soup.title)"
   ]
  },
  {
   "cell_type": "code",
   "execution_count": 13,
   "id": "b58d427f",
   "metadata": {},
   "outputs": [
    {
     "name": "stdout",
     "output_type": "stream",
     "text": [
      "Online Courses and eBooks Library\n"
     ]
    }
   ],
   "source": [
    "print(soup.title.text)"
   ]
  },
  {
   "cell_type": "code",
   "execution_count": 14,
   "id": "317d3595",
   "metadata": {},
   "outputs": [],
   "source": [
    "# To extract all the URLs within the page we can run the following command"
   ]
  },
  {
   "cell_type": "code",
   "execution_count": null,
   "id": "4c49e7da",
   "metadata": {},
   "outputs": [],
   "source": []
  },
  {
   "cell_type": "code",
   "execution_count": 15,
   "id": "ce8163be",
   "metadata": {},
   "outputs": [],
   "source": [
    "# soup.find_all('a')"
   ]
  },
  {
   "cell_type": "code",
   "execution_count": 16,
   "id": "fcc1523d",
   "metadata": {},
   "outputs": [],
   "source": [
    "# for link in soup.find_all('a'):\n",
    "#     print(link.get('href'))"
   ]
  },
  {
   "cell_type": "code",
   "execution_count": 17,
   "id": "ad915898",
   "metadata": {},
   "outputs": [],
   "source": [
    "# soup.head"
   ]
  },
  {
   "cell_type": "code",
   "execution_count": 18,
   "id": "b08324d6",
   "metadata": {},
   "outputs": [
    {
     "data": {
      "text/plain": [
       "<b>Best Practices</b>"
      ]
     },
     "execution_count": 18,
     "metadata": {},
     "output_type": "execute_result"
    }
   ],
   "source": [
    "soup.body.b"
   ]
  },
  {
   "cell_type": "code",
   "execution_count": 19,
   "id": "07bab66a",
   "metadata": {},
   "outputs": [
    {
     "data": {
      "text/plain": [
       "'Best Practices'"
      ]
     },
     "execution_count": 19,
     "metadata": {},
     "output_type": "execute_result"
    }
   ],
   "source": [
    "soup.body.b.text"
   ]
  },
  {
   "cell_type": "code",
   "execution_count": 20,
   "id": "7accf1ff",
   "metadata": {},
   "outputs": [
    {
     "data": {
      "text/plain": [
       "<title>Online Courses and eBooks Library</title>"
      ]
     },
     "execution_count": 20,
     "metadata": {},
     "output_type": "execute_result"
    }
   ],
   "source": [
    "soup.title"
   ]
  },
  {
   "cell_type": "code",
   "execution_count": 21,
   "id": "6b422447",
   "metadata": {},
   "outputs": [
    {
     "data": {
      "text/plain": [
       "'Online Courses and eBooks Library'"
      ]
     },
     "execution_count": 21,
     "metadata": {},
     "output_type": "execute_result"
    }
   ],
   "source": [
    "soup.title.text"
   ]
  },
  {
   "cell_type": "code",
   "execution_count": 22,
   "id": "030acd11",
   "metadata": {},
   "outputs": [
    {
     "data": {
      "text/plain": [
       "<a class=\"nav-link\" href=\"https://www.tutorialspoint.com/index.htm\"><i class=\"fal fa-home-alt me-1\"></i> Home</a>"
      ]
     },
     "execution_count": 22,
     "metadata": {},
     "output_type": "execute_result"
    }
   ],
   "source": [
    "soup.a"
   ]
  },
  {
   "cell_type": "code",
   "execution_count": 23,
   "id": "389c2840",
   "metadata": {},
   "outputs": [
    {
     "data": {
      "text/plain": [
       "' Home'"
      ]
     },
     "execution_count": 23,
     "metadata": {},
     "output_type": "execute_result"
    }
   ],
   "source": [
    "soup.a.text"
   ]
  },
  {
   "cell_type": "code",
   "execution_count": 24,
   "id": "f75cb3f2",
   "metadata": {},
   "outputs": [],
   "source": [
    "# soup.find_all('a')"
   ]
  },
  {
   "cell_type": "code",
   "execution_count": 25,
   "id": "2de1dd4b",
   "metadata": {},
   "outputs": [],
   "source": [
    "Htag = soup.head\n"
   ]
  },
  {
   "cell_type": "code",
   "execution_count": 26,
   "id": "dbeb77d1",
   "metadata": {},
   "outputs": [],
   "source": [
    "# Htag.contents"
   ]
  },
  {
   "cell_type": "code",
   "execution_count": 27,
   "id": "6815d305",
   "metadata": {},
   "outputs": [
    {
     "data": {
      "text/plain": [
       "'\\n'"
      ]
     },
     "execution_count": 27,
     "metadata": {},
     "output_type": "execute_result"
    }
   ],
   "source": [
    "Htag.contents[0]"
   ]
  },
  {
   "cell_type": "code",
   "execution_count": 28,
   "id": "6fbf99bf",
   "metadata": {},
   "outputs": [
    {
     "data": {
      "text/plain": [
       "4"
      ]
     },
     "execution_count": 28,
     "metadata": {},
     "output_type": "execute_result"
    }
   ],
   "source": [
    "len(soup.contents)"
   ]
  },
  {
   "cell_type": "code",
   "execution_count": 29,
   "id": "d49213ac",
   "metadata": {},
   "outputs": [
    {
     "data": {
      "text/plain": [
       "'\\n'"
      ]
     },
     "execution_count": 29,
     "metadata": {},
     "output_type": "execute_result"
    }
   ],
   "source": [
    "soup.contents[1]"
   ]
  },
  {
   "cell_type": "code",
   "execution_count": 30,
   "id": "dd084de7",
   "metadata": {},
   "outputs": [
    {
     "name": "stdout",
     "output_type": "stream",
     "text": [
      "None\n"
     ]
    }
   ],
   "source": [
    "print(soup.contents[1].name)"
   ]
  },
  {
   "cell_type": "code",
   "execution_count": 36,
   "id": "49b6a8af",
   "metadata": {},
   "outputs": [],
   "source": [
    "soup.find('row', class_=\"col-sm-6 col-lg-4 col-xl-3 mb-4\")"
   ]
  },
  {
   "cell_type": "code",
   "execution_count": 37,
   "id": "44949488",
   "metadata": {},
   "outputs": [],
   "source": [
    "#This is shortly changed for only test of the github "
   ]
  },
  {
   "cell_type": "code",
   "execution_count": null,
   "id": "a0f7cb0f",
   "metadata": {},
   "outputs": [],
   "source": []
  }
 ],
 "metadata": {
  "kernelspec": {
   "display_name": "Python 3 (ipykernel)",
   "language": "python",
   "name": "python3"
  },
  "language_info": {
   "codemirror_mode": {
    "name": "ipython",
    "version": 3
   },
   "file_extension": ".py",
   "mimetype": "text/x-python",
   "name": "python",
   "nbconvert_exporter": "python",
   "pygments_lexer": "ipython3",
   "version": "3.10.9"
  }
 },
 "nbformat": 4,
 "nbformat_minor": 5
}
