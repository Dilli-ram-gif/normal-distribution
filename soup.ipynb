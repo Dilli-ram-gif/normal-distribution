{
 "cells": [
  {
   "cell_type": "code",
   "execution_count": 4,
   "id": "240eabae",
   "metadata": {},
   "outputs": [],
   "source": [
    "from bs4 import BeautifulSoup\n",
    "import requests\n",
    "import logging"
   ]
  },
  {
   "cell_type": "code",
   "execution_count": 5,
   "id": "584e7ab9",
   "metadata": {},
   "outputs": [],
   "source": [
    "url = \"https://www.tutorialspoint.com/\""
   ]
  },
  {
   "cell_type": "code",
   "execution_count": 6,
   "id": "d5c83d17",
   "metadata": {},
   "outputs": [],
   "source": [
    "page = requests.get(url)"
   ]
  },
  {
   "cell_type": "code",
   "execution_count": 7,
   "id": "211d43cf",
   "metadata": {},
   "outputs": [],
   "source": [
    "# page.text"
   ]
  },
  {
   "cell_type": "code",
   "execution_count": 8,
   "id": "e62e72f8",
   "metadata": {},
   "outputs": [],
   "source": [
    "outcome = page.text"
   ]
  },
  {
   "cell_type": "code",
   "execution_count": 9,
   "id": "2985eddb",
   "metadata": {},
   "outputs": [],
   "source": [
    "soup = BeautifulSoup(outcome,'html.parser')"
   ]
  },
  {
   "cell_type": "code",
   "execution_count": 10,
   "id": "faf0231d",
   "metadata": {},
   "outputs": [],
   "source": [
    "# soup"
   ]
  },
  {
   "cell_type": "code",
   "execution_count": 11,
   "id": "30e226ba",
   "metadata": {},
   "outputs": [
    {
     "data": {
      "text/plain": [
       "<title>Online Courses and eBooks Library</title>"
      ]
     },
     "execution_count": 11,
     "metadata": {},
     "output_type": "execute_result"
    }
   ],
   "source": [
    "soup.title"
   ]
  },
  {
   "cell_type": "code",
   "execution_count": 12,
   "id": "be47f54c",
   "metadata": {},
   "outputs": [
    {
     "name": "stdout",
     "output_type": "stream",
     "text": [
      "<title>Online Courses and eBooks Library</title>\n"
     ]
    }
   ],
   "source": [
    "print(soup.title)"
   ]
  },
  {
   "cell_type": "code",
   "execution_count": 13,
   "id": "dfe730ec",
   "metadata": {},
   "outputs": [
    {
     "name": "stdout",
     "output_type": "stream",
     "text": [
      "Online Courses and eBooks Library\n"
     ]
    }
   ],
   "source": [
    "print(soup.title.text)"
   ]
  },
  {
   "cell_type": "code",
   "execution_count": 14,
   "id": "1462e309",
   "metadata": {},
   "outputs": [],
   "source": [
    "# To extract all the URLs within the page we can run the following command"
   ]
  },
  {
   "cell_type": "code",
   "execution_count": null,
   "id": "17ca5815",
   "metadata": {},
   "outputs": [],
   "source": []
  },
  {
   "cell_type": "code",
   "execution_count": 15,
   "id": "769f6259",
   "metadata": {},
   "outputs": [],
   "source": [
    "# soup.find_all('a')"
   ]
  },
  {
   "cell_type": "code",
   "execution_count": 16,
   "id": "62e45e8d",
   "metadata": {},
   "outputs": [],
   "source": [
    "# for link in soup.find_all('a'):\n",
    "#     print(link.get('href'))"
   ]
  },
  {
   "cell_type": "code",
   "execution_count": 17,
   "id": "f08efd54",
   "metadata": {},
   "outputs": [],
   "source": [
    "# soup.head"
   ]
  },
  {
   "cell_type": "code",
   "execution_count": 18,
   "id": "b3f1f7e0",
   "metadata": {},
   "outputs": [
    {
     "data": {
      "text/plain": [
       "<b>Best Practices</b>"
      ]
     },
     "execution_count": 18,
     "metadata": {},
     "output_type": "execute_result"
    }
   ],
   "source": [
    "soup.body.b"
   ]
  },
  {
   "cell_type": "code",
   "execution_count": 19,
   "id": "29875d0b",
   "metadata": {},
   "outputs": [
    {
     "data": {
      "text/plain": [
       "'Best Practices'"
      ]
     },
     "execution_count": 19,
     "metadata": {},
     "output_type": "execute_result"
    }
   ],
   "source": [
    "soup.body.b.text"
   ]
  },
  {
   "cell_type": "code",
   "execution_count": 20,
   "id": "92fca778",
   "metadata": {},
   "outputs": [
    {
     "data": {
      "text/plain": [
       "<title>Online Courses and eBooks Library</title>"
      ]
     },
     "execution_count": 20,
     "metadata": {},
     "output_type": "execute_result"
    }
   ],
   "source": [
    "soup.title"
   ]
  },
  {
   "cell_type": "code",
   "execution_count": 21,
   "id": "5c66d9ec",
   "metadata": {},
   "outputs": [
    {
     "data": {
      "text/plain": [
       "'Online Courses and eBooks Library'"
      ]
     },
     "execution_count": 21,
     "metadata": {},
     "output_type": "execute_result"
    }
   ],
   "source": [
    "soup.title.text"
   ]
  },
  {
   "cell_type": "code",
   "execution_count": 22,
   "id": "030943b3",
   "metadata": {},
   "outputs": [
    {
     "data": {
      "text/plain": [
       "<a class=\"nav-link\" href=\"https://www.tutorialspoint.com/index.htm\"><i class=\"fal fa-home-alt me-1\"></i> Home</a>"
      ]
     },
     "execution_count": 22,
     "metadata": {},
     "output_type": "execute_result"
    }
   ],
   "source": [
    "soup.a"
   ]
  },
  {
   "cell_type": "code",
   "execution_count": 23,
   "id": "1efaed0f",
   "metadata": {},
   "outputs": [
    {
     "data": {
      "text/plain": [
       "' Home'"
      ]
     },
     "execution_count": 23,
     "metadata": {},
     "output_type": "execute_result"
    }
   ],
   "source": [
    "soup.a.text"
   ]
  },
  {
   "cell_type": "code",
   "execution_count": 24,
   "id": "4d2f8d58",
   "metadata": {},
   "outputs": [],
   "source": [
    "# soup.find_all('a')"
   ]
  },
  {
   "cell_type": "code",
   "execution_count": 25,
   "id": "99055497",
   "metadata": {},
   "outputs": [],
   "source": [
    "Htag = soup.head\n"
   ]
  },
  {
   "cell_type": "code",
   "execution_count": 26,
   "id": "bddafe18",
   "metadata": {},
   "outputs": [],
   "source": [
    "# Htag.contents"
   ]
  },
  {
   "cell_type": "code",
   "execution_count": 27,
   "id": "58c1d88f",
   "metadata": {},
   "outputs": [
    {
     "data": {
      "text/plain": [
       "'\\n'"
      ]
     },
     "execution_count": 27,
     "metadata": {},
     "output_type": "execute_result"
    }
   ],
   "source": [
    "Htag.contents[0]"
   ]
  },
  {
   "cell_type": "code",
   "execution_count": 28,
   "id": "0d0fbf9c",
   "metadata": {},
   "outputs": [
    {
     "data": {
      "text/plain": [
       "4"
      ]
     },
     "execution_count": 28,
     "metadata": {},
     "output_type": "execute_result"
    }
   ],
   "source": [
    "len(soup.contents)"
   ]
  },
  {
   "cell_type": "code",
   "execution_count": 29,
   "id": "d79322c1",
   "metadata": {},
   "outputs": [
    {
     "data": {
      "text/plain": [
       "'\\n'"
      ]
     },
     "execution_count": 29,
     "metadata": {},
     "output_type": "execute_result"
    }
   ],
   "source": [
    "soup.contents[1]"
   ]
  },
  {
   "cell_type": "code",
   "execution_count": 30,
   "id": "5fd361d2",
   "metadata": {},
   "outputs": [
    {
     "name": "stdout",
     "output_type": "stream",
     "text": [
      "None\n"
     ]
    }
   ],
   "source": [
    "print(soup.contents[1].name)"
   ]
  },
  {
   "cell_type": "code",
   "execution_count": 36,
   "id": "07677908",
   "metadata": {},
   "outputs": [],
   "source": [
    "soup.find('row', class_=\"col-sm-6 col-lg-4 col-xl-3 mb-4\")"
   ]
  },
  {
   "cell_type": "code",
   "execution_count": null,
   "id": "af4e6441",
   "metadata": {},
   "outputs": [],
   "source": []
  }
 ],
 "metadata": {
  "kernelspec": {
   "display_name": "Python 3 (ipykernel)",
   "language": "python",
   "name": "python3"
  },
  "language_info": {
   "codemirror_mode": {
    "name": "ipython",
    "version": 3
   },
   "file_extension": ".py",
   "mimetype": "text/x-python",
   "name": "python",
   "nbconvert_exporter": "python",
   "pygments_lexer": "ipython3",
   "version": "3.10.9"
  }
 },
 "nbformat": 4,
 "nbformat_minor": 5
}
