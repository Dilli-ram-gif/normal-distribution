{
 "cells": [
  {
   "cell_type": "markdown",
   "id": "787c76ab",
   "metadata": {},
   "source": [
    "### initialising tuples"
   ]
  },
  {
   "cell_type": "code",
   "execution_count": 1,
   "id": "c000edc5",
   "metadata": {},
   "outputs": [],
   "source": [
    "tuple1= (\"Ram\", 1, [1,2,3])"
   ]
  },
  {
   "cell_type": "code",
   "execution_count": 2,
   "id": "1fdf3824",
   "metadata": {},
   "outputs": [
    {
     "data": {
      "text/plain": [
       "('Ram', 1, [1, 2, 3])"
      ]
     },
     "execution_count": 2,
     "metadata": {},
     "output_type": "execute_result"
    }
   ],
   "source": [
    "tuple1"
   ]
  },
  {
   "cell_type": "code",
   "execution_count": 3,
   "id": "8c57bbed",
   "metadata": {},
   "outputs": [
    {
     "data": {
      "text/plain": [
       "tuple"
      ]
     },
     "execution_count": 3,
     "metadata": {},
     "output_type": "execute_result"
    }
   ],
   "source": [
    "type(tuple1)"
   ]
  },
  {
   "cell_type": "code",
   "execution_count": 4,
   "id": "e567a80f",
   "metadata": {},
   "outputs": [
    {
     "data": {
      "text/plain": [
       "('apple', 'mango', 'bananaa')"
      ]
     },
     "execution_count": 4,
     "metadata": {},
     "output_type": "execute_result"
    }
   ],
   "source": [
    "fruits = (\"apple\", \"mango\",\"bananaa\")\n",
    "fruits"
   ]
  },
  {
   "cell_type": "markdown",
   "id": "6b0f7d92",
   "metadata": {},
   "source": [
    "### for list"
   ]
  },
  {
   "cell_type": "code",
   "execution_count": 5,
   "id": "dfb8e8e8",
   "metadata": {
    "scrolled": true
   },
   "outputs": [
    {
     "name": "stdout",
     "output_type": "stream",
     "text": [
      "Type <class 'list'>\n"
     ]
    }
   ],
   "source": [
    "fruits = [\"apple\", 'banana','mango']\n",
    "print(f'Type {type(fruits)}')"
   ]
  },
  {
   "cell_type": "code",
   "execution_count": 6,
   "id": "8bffbdae",
   "metadata": {},
   "outputs": [],
   "source": [
    "fruits[1]= \"grapes\""
   ]
  },
  {
   "cell_type": "code",
   "execution_count": 7,
   "id": "1c556866",
   "metadata": {},
   "outputs": [
    {
     "name": "stdout",
     "output_type": "stream",
     "text": [
      "['apple', 'grapes', 'mango']\n"
     ]
    }
   ],
   "source": [
    "print(fruits)"
   ]
  },
  {
   "cell_type": "markdown",
   "id": "8d6c821a",
   "metadata": {},
   "source": [
    "### Tuple is immutable"
   ]
  },
  {
   "cell_type": "code",
   "execution_count": 8,
   "id": "aa166703",
   "metadata": {},
   "outputs": [],
   "source": [
    "fruits = ('apple', 'banana', 'cherry')"
   ]
  },
  {
   "cell_type": "code",
   "execution_count": null,
   "id": "7754c989",
   "metadata": {},
   "outputs": [],
   "source": []
  },
  {
   "cell_type": "raw",
   "id": "97d4c555",
   "metadata": {},
   "source": [
    "fruits[2] = \"grapes\""
   ]
  },
  {
   "cell_type": "code",
   "execution_count": 9,
   "id": "9ad0602b",
   "metadata": {},
   "outputs": [
    {
     "name": "stdout",
     "output_type": "stream",
     "text": [
      "('apple', 'banana', 'cherry')\n"
     ]
    }
   ],
   "source": [
    "print(fruits)"
   ]
  },
  {
   "cell_type": "markdown",
   "id": "b0b7f26d",
   "metadata": {},
   "source": [
    "### Type cast tuple to list\n"
   ]
  },
  {
   "cell_type": "code",
   "execution_count": 10,
   "id": "c2c94a6a",
   "metadata": {},
   "outputs": [],
   "source": [
    "fruits = list(fruits)"
   ]
  },
  {
   "cell_type": "code",
   "execution_count": 11,
   "id": "c929726f",
   "metadata": {},
   "outputs": [],
   "source": [
    "fruits[0] = 'pineapple'"
   ]
  },
  {
   "cell_type": "code",
   "execution_count": 12,
   "id": "6e74ea79",
   "metadata": {},
   "outputs": [
    {
     "name": "stdout",
     "output_type": "stream",
     "text": [
      "['pineapple', 'banana', 'cherry']\n"
     ]
    }
   ],
   "source": [
    "print(fruits)"
   ]
  },
  {
   "cell_type": "code",
   "execution_count": 13,
   "id": "8fb8e9a1",
   "metadata": {},
   "outputs": [
    {
     "data": {
      "text/plain": [
       "list"
      ]
     },
     "execution_count": 13,
     "metadata": {},
     "output_type": "execute_result"
    }
   ],
   "source": [
    "type(fruits)"
   ]
  },
  {
   "cell_type": "code",
   "execution_count": 14,
   "id": "c9649fcb",
   "metadata": {},
   "outputs": [],
   "source": [
    "fruits.append(\"mango\")"
   ]
  },
  {
   "cell_type": "code",
   "execution_count": 15,
   "id": "ab3830c8",
   "metadata": {},
   "outputs": [
    {
     "data": {
      "text/plain": [
       "['pineapple', 'banana', 'cherry', 'mango']"
      ]
     },
     "execution_count": 15,
     "metadata": {},
     "output_type": "execute_result"
    }
   ],
   "source": [
    "fruits"
   ]
  },
  {
   "cell_type": "markdown",
   "id": "21c6622b",
   "metadata": {},
   "source": [
    "### loop in tuples"
   ]
  },
  {
   "cell_type": "code",
   "execution_count": 16,
   "id": "b4c4022a",
   "metadata": {},
   "outputs": [],
   "source": [
    "fruits = (\"apple\",\"banana\",\"mango\",'cherry')"
   ]
  },
  {
   "cell_type": "code",
   "execution_count": 17,
   "id": "b723e22c",
   "metadata": {},
   "outputs": [],
   "source": [
    "data_set = (10,12,9,14,15)\n",
    "\n"
   ]
  },
  {
   "cell_type": "code",
   "execution_count": 19,
   "id": "de42ec2e",
   "metadata": {},
   "outputs": [
    {
     "name": "stdout",
     "output_type": "stream",
     "text": [
      "The mean value of data  is 12.0\n"
     ]
    }
   ],
   "source": [
    "total = 0\n",
    "\n",
    "for item in data_set:\n",
    "    total += item\n",
    "mean = total /len(data_set)\n",
    "print(f\"The mean value of data  is {round(mean,2)}\")\n",
    "    "
   ]
  },
  {
   "cell_type": "code",
   "execution_count": null,
   "id": "605cb3cd",
   "metadata": {},
   "outputs": [],
   "source": []
  }
 ],
 "metadata": {
  "kernelspec": {
   "display_name": "Python 3 (ipykernel)",
   "language": "python",
   "name": "python3"
  },
  "language_info": {
   "codemirror_mode": {
    "name": "ipython",
    "version": 3
   },
   "file_extension": ".py",
   "mimetype": "text/x-python",
   "name": "python",
   "nbconvert_exporter": "python",
   "pygments_lexer": "ipython3",
   "version": "3.11.0"
  }
 },
 "nbformat": 4,
 "nbformat_minor": 5
}
