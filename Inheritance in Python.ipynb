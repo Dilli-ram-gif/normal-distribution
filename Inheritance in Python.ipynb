{
 "cells": [
  {
   "cell_type": "markdown",
   "id": "8e9d405c",
   "metadata": {},
   "source": [
    "### Single Inheritance"
   ]
  },
  {
   "cell_type": "code",
   "execution_count": 1,
   "id": "4521ab16",
   "metadata": {},
   "outputs": [],
   "source": [
    "class Computer:\n",
    "    def __init__(self, storage, display_panel):\n",
    "        self.storage = storage\n",
    "        self.display_panel = display_panel"
   ]
  },
  {
   "cell_type": "code",
   "execution_count": 4,
   "id": "733e45ed",
   "metadata": {},
   "outputs": [],
   "source": [
    "class Mobile(Computer):\n",
    "    def __init__(self, size, storage, display_panel):\n",
    "        self.size = size\n",
    "        super().__init__(storage, display_panel)\n",
    "            \n",
    "        "
   ]
  },
  {
   "cell_type": "code",
   "execution_count": 5,
   "id": "c05de148",
   "metadata": {},
   "outputs": [],
   "source": [
    "m = Mobile(6, 128, \"ips\")"
   ]
  },
  {
   "cell_type": "code",
   "execution_count": 6,
   "id": "d22ddd37",
   "metadata": {},
   "outputs": [
    {
     "data": {
      "text/plain": [
       "6"
      ]
     },
     "execution_count": 6,
     "metadata": {},
     "output_type": "execute_result"
    }
   ],
   "source": [
    "m.size"
   ]
  },
  {
   "cell_type": "code",
   "execution_count": 7,
   "id": "07ea1d6a",
   "metadata": {},
   "outputs": [
    {
     "data": {
      "text/plain": [
       "128"
      ]
     },
     "execution_count": 7,
     "metadata": {},
     "output_type": "execute_result"
    }
   ],
   "source": [
    "m.storage"
   ]
  },
  {
   "cell_type": "code",
   "execution_count": null,
   "id": "48334477",
   "metadata": {},
   "outputs": [],
   "source": []
  }
 ],
 "metadata": {
  "kernelspec": {
   "display_name": "Python 3 (ipykernel)",
   "language": "python",
   "name": "python3"
  },
  "language_info": {
   "codemirror_mode": {
    "name": "ipython",
    "version": 3
   },
   "file_extension": ".py",
   "mimetype": "text/x-python",
   "name": "python",
   "nbconvert_exporter": "python",
   "pygments_lexer": "ipython3",
   "version": "3.11.0"
  }
 },
 "nbformat": 4,
 "nbformat_minor": 5
}
